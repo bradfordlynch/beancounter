{
 "cells": [
  {
   "cell_type": "code",
   "execution_count": 1,
   "id": "3f84d87f-2f77-44e1-961e-fd7db1976d7c",
   "metadata": {},
   "outputs": [],
   "source": [
    "import pandas as pd\n",
    "import numpy as np\n",
    "import matplotlib.pyplot as plt\n",
    "from matplotlib import rcParams\n",
    "import seaborn as sns\n",
    "import re\n",
    "import unicodedata\n",
    "import os\n",
    "import multiprocessing as mp\n",
    "from tqdm.notebook import tqdm\n",
    "import gzip\n",
    "import json\n",
    "import hashlib\n",
    "import wrds\n",
    "import pickle\n",
    "from collections import Counter"
   ]
  },
  {
   "cell_type": "code",
   "execution_count": 3,
   "id": "b64010be-d46a-428e-8ad4-85b1b1b3f21e",
   "metadata": {},
   "outputs": [],
   "source": [
    "# set seaborn context for consistent format\n",
    "sns.set_context('talk')"
   ]
  },
  {
   "cell_type": "code",
   "execution_count": 33,
   "id": "4f287957-65bc-4041-87c6-edb66a590010",
   "metadata": {},
   "outputs": [],
   "source": [
    "SUPPORTING_DATA_DIR = '/supporting_datasets'\n",
    "MODEL_EVAL_DIR = '/model_evaluations'\n",
    "TABLES_PLOTS_DIR = '/tables_and_plots'\n",
    "TOXICITY_DEMOGRAPHIC_ANALYSIS_DIR = '/toxicity_and_demographic_analysis'\n",
    "WRDS_USER = '' # for loading compustat data, if user do not already have a WRDS account, register here: https://wrds-www.wharton.upenn.edu/register/"
   ]
  },
  {
   "cell_type": "markdown",
   "id": "7ac0ad01-4d60-4dab-acc7-7a3d60b2dd54",
   "metadata": {},
   "source": [
    "# Load SEC Index from parquet file"
   ]
  },
  {
   "cell_type": "code",
   "execution_count": 5,
   "id": "00383f52-e6d3-444e-80f1-e2c899c02060",
   "metadata": {},
   "outputs": [],
   "source": [
    "SEC_INDEX_PATH = 'sec_index.parquet'"
   ]
  },
  {
   "cell_type": "code",
   "execution_count": 7,
   "id": "1c10cc02-0f77-431d-9214-aa3ee9c5640a",
   "metadata": {},
   "outputs": [],
   "source": [
    "sec_index = pd.read_parquet(os.path.join(SUPPORTING_DATA_DIR, SEC_INDEX_PATH), engine='pyarrow')"
   ]
  },
  {
   "cell_type": "code",
   "execution_count": 8,
   "id": "0317889c-7a4f-41df-a9c5-65f28318832c",
   "metadata": {},
   "outputs": [],
   "source": [
    "# get unique accession-date observations from SEC index\n",
    "sec_unique_acc_date = sec_index.sort_values(by=['cik', 'date']) \\\n",
    "    .drop_duplicates(subset=['accession', 'date']) \\\n",
    "    .sort_values(by=['date'])"
   ]
  },
  {
   "cell_type": "markdown",
   "id": "a48e0d0b-5dda-46be-8f3c-148cab2c34a0",
   "metadata": {},
   "source": [
    "# Load summary stats files (for Table 1, Figure 2, 3, and 4)"
   ]
  },
  {
   "cell_type": "code",
   "execution_count": 9,
   "id": "cecc3bb3-587c-4345-9f9a-994d718216f6",
   "metadata": {},
   "outputs": [],
   "source": [
    "# parquet files with summary statistics for each filing in BeanCounter.clean and BeanCounter.final\n",
    "cleaned_parquet = 'summary_stats_cleaned.parquet'\n",
    "final_parquet = 'summary_stats_final.parquet'\n",
    "\n",
    "# load up summary statistics for BeanCounter.clean and BeanCounter.final\n",
    "summary_stats_cleaned = pd.read_parquet(os.path.join(SUPPORTING_DATA_DIR, cleaned_parquet), engine='pyarrow')\n",
    "summary_stats_final = pd.read_parquet(os.path.join(SUPPORTING_DATA_DIR, final_parquet), engine='pyarrow')"
   ]
  },
  {
   "cell_type": "markdown",
   "id": "23815a1c-653d-4f88-a823-df103448c37e",
   "metadata": {},
   "source": [
    "# Table 1: Statistics for BeanCounter duplication rate"
   ]
  },
  {
   "cell_type": "markdown",
   "id": "bd2ded84-7d34-4daf-80b6-316e27c96a62",
   "metadata": {},
   "source": [
    "## Table 1a: BeanCounter.clean vs. BeanCounter.final"
   ]
  },
  {
   "cell_type": "code",
   "execution_count": 11,
   "id": "3774209f-b7cf-4934-817a-3023e6d7fda4",
   "metadata": {},
   "outputs": [],
   "source": [
    "# Number of tokens in billions for BeanCounter.clean and BeanCounter.final\n",
    "bc_cleaned_n_tokens_billions = summary_stats_cleaned['n_token'].sum() / 1e9\n",
    "bc_final_n_tokens_billions = summary_stats_final['n_token'].sum() / 1e9\n",
    "\n",
    "# Number of GB for BeanCounter.clean and BeanCounter.final\n",
    "bc_cleaned_GB = summary_stats_cleaned['n_char'].sum() / 1e9 # if one character == 1 byte\n",
    "bc_final_GB = summary_stats_final['n_char'].sum() / 1e9"
   ]
  },
  {
   "cell_type": "code",
   "execution_count": 12,
   "id": "b2982a6c-7e74-4e24-bf96-e2da1250f177",
   "metadata": {},
   "outputs": [],
   "source": [
    "table1a_df = pd.DataFrame(\n",
    "    {\n",
    "        'Dataset': ['BeanCounter.clean', 'BeanCounter.final'],\n",
    "        'n_tokens_billions': [bc_cleaned_n_tokens_billions, bc_final_n_tokens_billions ],\n",
    "        'size_GB': [bc_cleaned_GB, bc_final_GB]\n",
    "    }\n",
    ")"
   ]
  },
  {
   "cell_type": "code",
   "execution_count": 13,
   "id": "708bd43c-0e67-4dc8-a25d-7f0abeff4a3a",
   "metadata": {},
   "outputs": [
    {
     "data": {
      "text/html": [
       "<div>\n",
       "<style scoped>\n",
       "    .dataframe tbody tr th:only-of-type {\n",
       "        vertical-align: middle;\n",
       "    }\n",
       "\n",
       "    .dataframe tbody tr th {\n",
       "        vertical-align: top;\n",
       "    }\n",
       "\n",
       "    .dataframe thead th {\n",
       "        text-align: right;\n",
       "    }\n",
       "</style>\n",
       "<table border=\"1\" class=\"dataframe\">\n",
       "  <thead>\n",
       "    <tr style=\"text-align: right;\">\n",
       "      <th></th>\n",
       "      <th>Dataset</th>\n",
       "      <th>n_tokens_billions</th>\n",
       "      <th>size_GB</th>\n",
       "    </tr>\n",
       "  </thead>\n",
       "  <tbody>\n",
       "    <tr>\n",
       "      <th>0</th>\n",
       "      <td>BeanCounter.clean</td>\n",
       "      <td>159.338571</td>\n",
       "      <td>864.527934</td>\n",
       "    </tr>\n",
       "    <tr>\n",
       "      <th>1</th>\n",
       "      <td>BeanCounter.final</td>\n",
       "      <td>110.780079</td>\n",
       "      <td>600.026813</td>\n",
       "    </tr>\n",
       "  </tbody>\n",
       "</table>\n",
       "</div>"
      ],
      "text/plain": [
       "             Dataset  n_tokens_billions     size_GB\n",
       "0  BeanCounter.clean         159.338571  864.527934\n",
       "1  BeanCounter.final         110.780079  600.026813"
      ]
     },
     "execution_count": 13,
     "metadata": {},
     "output_type": "execute_result"
    }
   ],
   "source": [
    "table1a_df"
   ]
  },
  {
   "cell_type": "markdown",
   "id": "23d71493-ad36-4fae-bf0f-0c8de1d38ca9",
   "metadata": {},
   "source": [
    "## Table 1b: Duplication rate of most commonly studied form types: 10-K, 10-Q and 8-K"
   ]
  },
  {
   "cell_type": "code",
   "execution_count": 14,
   "id": "e819d47e-2434-4f11-b4e9-e67113bcc48f",
   "metadata": {},
   "outputs": [],
   "source": [
    "def get_num_and_percent_duplicate(form_type):\n",
    "    cleaned_form_type = summary_stats_cleaned[summary_stats_cleaned['type_filing'] == form_type]['n_token'].sum()\n",
    "    final_form_type = summary_stats_final[summary_stats_final['type_filing'] == form_type]['n_token'].sum()\n",
    "    \n",
    "    n_dupe_billion = (cleaned_form_type-final_form_type)/1e9\n",
    "    percent_dupe = 100*(1-(final_form_type/cleaned_form_type))\n",
    "    return (n_dupe_billion, percent_dupe)"
   ]
  },
  {
   "cell_type": "code",
   "execution_count": 15,
   "id": "3c5484e2-1260-48a2-ad29-966b6c39e8e9",
   "metadata": {},
   "outputs": [],
   "source": [
    "n_dupe_10k_billion, percent_dupe_10k = get_num_and_percent_duplicate('10-K')\n",
    "n_dupe_10q_billion, percent_dupe_10q = get_num_and_percent_duplicate('10-Q')\n",
    "n_dupe_8k_billion, percent_dupe_8k = get_num_and_percent_duplicate('8-K')"
   ]
  },
  {
   "cell_type": "code",
   "execution_count": 16,
   "id": "77a6148e-cd17-4ecd-82e7-43fd9d2aa462",
   "metadata": {},
   "outputs": [],
   "source": [
    "table1b_df = pd.DataFrame(\n",
    "    {\n",
    "        'form_type': ['10-K', '10-Q', '8-K'],\n",
    "        'n_duplicate_tokens_billions': [n_dupe_10k_billion, n_dupe_10q_billion, n_dupe_8k_billion],\n",
    "        'percent_duplicate': [percent_dupe_10k, percent_dupe_10q, percent_dupe_8k],\n",
    "    }\n",
    ")"
   ]
  },
  {
   "cell_type": "code",
   "execution_count": 17,
   "id": "4ff5765f-648a-43f5-9ef0-5c8f0b7b0009",
   "metadata": {},
   "outputs": [
    {
     "data": {
      "text/html": [
       "<div>\n",
       "<style scoped>\n",
       "    .dataframe tbody tr th:only-of-type {\n",
       "        vertical-align: middle;\n",
       "    }\n",
       "\n",
       "    .dataframe tbody tr th {\n",
       "        vertical-align: top;\n",
       "    }\n",
       "\n",
       "    .dataframe thead th {\n",
       "        text-align: right;\n",
       "    }\n",
       "</style>\n",
       "<table border=\"1\" class=\"dataframe\">\n",
       "  <thead>\n",
       "    <tr style=\"text-align: right;\">\n",
       "      <th></th>\n",
       "      <th>form_type</th>\n",
       "      <th>n_duplicate_tokens_billions</th>\n",
       "      <th>percent_duplicate</th>\n",
       "    </tr>\n",
       "  </thead>\n",
       "  <tbody>\n",
       "    <tr>\n",
       "      <th>0</th>\n",
       "      <td>10-K</td>\n",
       "      <td>1.016875</td>\n",
       "      <td>8.772483</td>\n",
       "    </tr>\n",
       "    <tr>\n",
       "      <th>1</th>\n",
       "      <td>10-Q</td>\n",
       "      <td>1.143566</td>\n",
       "      <td>8.794580</td>\n",
       "    </tr>\n",
       "    <tr>\n",
       "      <th>2</th>\n",
       "      <td>8-K</td>\n",
       "      <td>3.883510</td>\n",
       "      <td>23.329324</td>\n",
       "    </tr>\n",
       "  </tbody>\n",
       "</table>\n",
       "</div>"
      ],
      "text/plain": [
       "  form_type  n_duplicate_tokens_billions  percent_duplicate\n",
       "0      10-K                     1.016875           8.772483\n",
       "1      10-Q                     1.143566           8.794580\n",
       "2       8-K                     3.883510          23.329324"
      ]
     },
     "execution_count": 17,
     "metadata": {},
     "output_type": "execute_result"
    }
   ],
   "source": [
    "table1b_df"
   ]
  },
  {
   "cell_type": "markdown",
   "id": "59c39af3-7e12-448c-96c3-8832665b3dfd",
   "metadata": {},
   "source": [
    "# Figure 2: Text volume by year and form type"
   ]
  },
  {
   "cell_type": "code",
   "execution_count": 17,
   "id": "af80d422-e126-4421-86fc-ae0e040f36fc",
   "metadata": {},
   "outputs": [
    {
     "name": "stderr",
     "output_type": "stream",
     "text": [
      "/tmp/ipykernel_3844151/2158009096.py:4: SettingWithCopyWarning: \n",
      "A value is trying to be set on a copy of a slice from a DataFrame.\n",
      "Try using .loc[row_indexer,col_indexer] = value instead\n",
      "\n",
      "See the caveats in the documentation: https://pandas.pydata.org/pandas-docs/stable/user_guide/indexing.html#returning-a-view-versus-a-copy\n",
      "  summary_stats_final_96_23['accept_date'] = summary_stats_final_96_23['ts_accept'].apply(lambda x:x[:10] if x else None)\n",
      "/tmp/ipykernel_3844151/2158009096.py:5: SettingWithCopyWarning: \n",
      "A value is trying to be set on a copy of a slice from a DataFrame.\n",
      "Try using .loc[row_indexer,col_indexer] = value instead\n",
      "\n",
      "See the caveats in the documentation: https://pandas.pydata.org/pandas-docs/stable/user_guide/indexing.html#returning-a-view-versus-a-copy\n",
      "  summary_stats_final_96_23['date'] = pd.to_datetime(summary_stats_final_96_23['accept_date'], format='%Y-%m-%d')\n"
     ]
    }
   ],
   "source": [
    "# limit to 1996-2023\n",
    "summary_stats_final['year'] = summary_stats_final['ts_accept'].apply(lambda x:int(x[:4]) if x else None)\n",
    "summary_stats_final_96_23 = summary_stats_final.loc[(summary_stats_final['year'] >= 1996) & (summary_stats_final['year'] <= 2023)]\n",
    "summary_stats_final_96_23['accept_date'] = summary_stats_final_96_23['ts_accept'].apply(lambda x:x[:10] if x else None)\n",
    "summary_stats_final_96_23['date'] = pd.to_datetime(summary_stats_final_96_23['accept_date'], format='%Y-%m-%d')"
   ]
  },
  {
   "cell_type": "markdown",
   "id": "ba08e7ec-e56b-410c-ac60-373cbfb3ed06",
   "metadata": {},
   "source": [
    "## Figure 2a. number of tokens by year"
   ]
  },
  {
   "cell_type": "code",
   "execution_count": 19,
   "id": "1f38351b-d232-4d46-acfa-bb34a9d068be",
   "metadata": {},
   "outputs": [],
   "source": [
    "year2n_token = pd.DataFrame(summary_stats_final_96_23.groupby('year')['n_token'].sum()).reset_index()\n",
    "avg_n_tokens = year2n_token['n_token'].mean()"
   ]
  },
  {
   "cell_type": "code",
   "execution_count": 20,
   "id": "7ef902b6-160d-451f-9f0d-3ac87579f22b",
   "metadata": {},
   "outputs": [
    {
     "data": {
      "image/png": "[encoded data removed]",
      "text/plain": [
       "<Figure size 640x480 with 1 Axes>"
      ]
     },
     "metadata": {},
     "output_type": "display_data"
    }
   ],
   "source": [
    "rcParams['font.family'] = 'serif'\n",
    "fig, ax = plt.subplots()\n",
    "\n",
    "# Example data\n",
    "years = np.array(year2n_token['year'])\n",
    "x_pos = np.arange(len(years))\n",
    "num_tokens = np.array(year2n_token['n_token'])\n",
    "\n",
    "ax.bar(years, num_tokens, align='center')\n",
    "ax.set_xlim(1995.3, 2023.6)\n",
    "ax.set_xlabel(\"Year\")\n",
    "ax.set_ylabel(\"Number of tokens\")\n",
    "\n",
    "plt.hlines(avg_n_tokens, 1995.3, 2023.6, color='k', linestyles='--', label='Average') \n",
    "ax.legend()\n",
    "plt.show()"
   ]
  },
  {
   "cell_type": "markdown",
   "id": "7326cabc-c918-4886-b46f-45c206aada7c",
   "metadata": {},
   "source": [
    "## Figure 2b. Number of tokens by form type"
   ]
  },
  {
   "cell_type": "code",
   "execution_count": 79,
   "id": "e571e769-2c8d-4f09-be33-b217f20a6e02",
   "metadata": {},
   "outputs": [],
   "source": [
    "formtype2n_tokens = pd.DataFrame(summary_stats_final_96_23.groupby('form_type')['n_token'].sum()).sort_values(by='n_token', ascending = False).reset_index()"
   ]
  },
  {
   "cell_type": "code",
   "execution_count": 80,
   "id": "3c91dd46-aa37-490e-bae5-ec6c35979781",
   "metadata": {},
   "outputs": [],
   "source": [
    "formtype2n_tokens['percent_tokens'] = 100*(formtype2n_tokens['n_token'] / formtype2n_tokens['n_token'].sum())"
   ]
  },
  {
   "cell_type": "code",
   "execution_count": 81,
   "id": "a8018d07-5643-4cf6-ad2a-fb5d354a0754",
   "metadata": {},
   "outputs": [
    {
     "data": {
      "image/png": "[encoded data removed]",
      "text/plain": [
       "<Figure size 640x480 with 1 Axes>"
      ]
     },
     "metadata": {},
     "output_type": "display_data"
    }
   ],
   "source": [
    "fig, ax = plt.subplots()\n",
    "\n",
    "# Example data\n",
    "form_types = np.array(formtype2n_tokens['form_type'].head(20))\n",
    "y_pos = np.arange(len(form_types))\n",
    "num_tokens = np.array(formtype2n_tokens['n_token'].head(20))\n",
    "\n",
    "ax.barh(y_pos, num_tokens, align='center')\n",
    "ax.set_yticks(y_pos, labels=form_types)\n",
    "ax.invert_yaxis()  # labels read top-to-bottom\n",
    "ax.set_xlabel(\"Number of tokens\")\n",
    "ax.set_ylabel(\"Form type\")\n",
    "ax.tick_params(labelsize = 15)\n",
    "# ax.set_title('Number of tokens associated with each form type')\n",
    "\n",
    "plt.show()"
   ]
  },
  {
   "cell_type": "markdown",
   "id": "57e7f57e-4cac-4cf0-a2ff-2f0892f82f1e",
   "metadata": {},
   "source": [
    "# Get Firm and Industry classification in preparation for Fig.3 and Fig.4"
   ]
  },
  {
   "cell_type": "markdown",
   "id": "4396d61f-45cd-45b5-9b3b-3a784945d4f0",
   "metadata": {},
   "source": [
    "## Get compustat funda to access gvkey (unique key for each company) associated sich (standard industry code)"
   ]
  },
  {
   "cell_type": "markdown",
   "id": "4f55deda-6fd2-4f27-b4b2-b9e14962cb37",
   "metadata": {},
   "source": [
    "**Note:** The query below accesses a table of information about firms’ fundamental financial performance and a variety of metadata. Unfortunately, this table can change retroactively, e.g., if it is discovered that a firm misreported their financial metrics. For this reason there may be minor changes in the data if this code is run later than when it was run by the authors (2024-06-11)."
   ]
  },
  {
   "cell_type": "code",
   "execution_count": 11,
   "id": "373882fe-2b48-4028-9303-da5449ef3eb2",
   "metadata": {},
   "outputs": [
    {
     "name": "stdin",
     "output_type": "stream",
     "text": [
      "Enter your WRDS username [swang19]: swang19\n",
      "Enter your password: ········\n"
     ]
    },
    {
     "name": "stdout",
     "output_type": "stream",
     "text": [
      "WRDS recommends setting up a .pgpass file.\n"
     ]
    },
    {
     "name": "stdin",
     "output_type": "stream",
     "text": [
      "Create .pgpass file now [y/n]?:  y\n"
     ]
    },
    {
     "name": "stdout",
     "output_type": "stream",
     "text": [
      "Created .pgpass file successfully.\n",
      "You can create this file yourself at any time with the create_pgpass_file() function.\n",
      "Loading library list...\n",
      "Done\n"
     ]
    }
   ],
   "source": [
    "# Need to have a wrds account; register here: https://wrds-www.wharton.upenn.edu/register/\n",
    "db = wrds.Connection(wrds_username=WRDS_USER)"
   ]
  },
  {
   "cell_type": "code",
   "execution_count": 12,
   "id": "79f6006a-51f7-4e0e-ba7a-47239634c396",
   "metadata": {},
   "outputs": [],
   "source": [
    "qry = '''\n",
    "select gvkey, conm, datadate, sich from comp_na_daily_all.funda\n",
    "'''\n",
    "\n",
    "funda = db.raw_sql(qry)"
   ]
  },
  {
   "cell_type": "code",
   "execution_count": 13,
   "id": "a4c813b1-6113-47e2-8867-29f05760f5cc",
   "metadata": {},
   "outputs": [],
   "source": [
    "funda = funda.rename(columns = {'datadate': 'date'})\n",
    "funda[\"date\"] = pd.to_datetime(funda[\"date\"])\n",
    "funda = funda.sort_values(by = ['date'])\n",
    "funda = funda.dropna(subset = ['sich'])"
   ]
  },
  {
   "cell_type": "markdown",
   "id": "6c47132f-0562-434c-9a31-2488d704ed3c",
   "metadata": {},
   "source": [
    "## Create CIK Link"
   ]
  },
  {
   "cell_type": "code",
   "execution_count": 14,
   "id": "2e361717-5665-44f2-b0f7-86bd51196f9e",
   "metadata": {},
   "outputs": [
    {
     "data": {
      "text/html": [
       "<div>\n",
       "<style scoped>\n",
       "    .dataframe tbody tr th:only-of-type {\n",
       "        vertical-align: middle;\n",
       "    }\n",
       "\n",
       "    .dataframe tbody tr th {\n",
       "        vertical-align: top;\n",
       "    }\n",
       "\n",
       "    .dataframe thead th {\n",
       "        text-align: right;\n",
       "    }\n",
       "</style>\n",
       "<table border=\"1\" class=\"dataframe\">\n",
       "  <thead>\n",
       "    <tr style=\"text-align: right;\">\n",
       "      <th></th>\n",
       "      <th>gvkey</th>\n",
       "      <th>permno</th>\n",
       "      <th>permco</th>\n",
       "      <th>linkdt</th>\n",
       "      <th>linkenddt</th>\n",
       "      <th>cik</th>\n",
       "      <th>tic</th>\n",
       "    </tr>\n",
       "  </thead>\n",
       "  <tbody>\n",
       "    <tr>\n",
       "      <th>0</th>\n",
       "      <td>15253</td>\n",
       "      <td>75733</td>\n",
       "      <td>10146</td>\n",
       "      <td>1989-03-28</td>\n",
       "      <td>2011-06-30</td>\n",
       "      <td>793044.0</td>\n",
       "      <td>CKXE</td>\n",
       "    </tr>\n",
       "    <tr>\n",
       "      <th>1</th>\n",
       "      <td>34135</td>\n",
       "      <td>18133</td>\n",
       "      <td>56532</td>\n",
       "      <td>2018-09-21</td>\n",
       "      <td>2100-12-31</td>\n",
       "      <td>1722964.0</td>\n",
       "      <td>YMAB</td>\n",
       "    </tr>\n",
       "    <tr>\n",
       "      <th>2</th>\n",
       "      <td>7515</td>\n",
       "      <td>22023</td>\n",
       "      <td>21213</td>\n",
       "      <td>1962-01-31</td>\n",
       "      <td>2000-06-02</td>\n",
       "      <td>67532.0</td>\n",
       "      <td>GWOW</td>\n",
       "    </tr>\n",
       "    <tr>\n",
       "      <th>3</th>\n",
       "      <td>25783</td>\n",
       "      <td>77976</td>\n",
       "      <td>11735</td>\n",
       "      <td>1992-10-06</td>\n",
       "      <td>2011-02-28</td>\n",
       "      <td>890801.0</td>\n",
       "      <td>MFE</td>\n",
       "    </tr>\n",
       "    <tr>\n",
       "      <th>5</th>\n",
       "      <td>4112</td>\n",
       "      <td>30964</td>\n",
       "      <td>6714</td>\n",
       "      <td>1984-01-31</td>\n",
       "      <td>1986-02-28</td>\n",
       "      <td>732677.0</td>\n",
       "      <td>DWYTE</td>\n",
       "    </tr>\n",
       "  </tbody>\n",
       "</table>\n",
       "</div>"
      ],
      "text/plain": [
       "   gvkey  permno  permco      linkdt   linkenddt        cik    tic\n",
       "0  15253   75733   10146  1989-03-28  2011-06-30   793044.0   CKXE\n",
       "1  34135   18133   56532  2018-09-21  2100-12-31  1722964.0   YMAB\n",
       "2   7515   22023   21213  1962-01-31  2000-06-02    67532.0   GWOW\n",
       "3  25783   77976   11735  1992-10-06  2011-02-28   890801.0    MFE\n",
       "5   4112   30964    6714  1984-01-31  1986-02-28   732677.0  DWYTE"
      ]
     },
     "execution_count": 14,
     "metadata": {},
     "output_type": "execute_result"
    }
   ],
   "source": [
    "qry = '''\n",
    "WITH links as (\n",
    "    SELECT distinct gvkey, \n",
    "           lpermno as permno, \n",
    "           lpermco as permco, \n",
    "           coalesce(linkdt, '1900-01-01') as linkdt, \n",
    "           coalesce(linkenddt, '2100-12-31') as linkenddt\n",
    "    FROM   crsp_m_ccm.ccmxpf_linktable\n",
    "    WHERE  linktype IN ( 'LU', 'LC', 'LD', 'LN',\n",
    "                         'LS', 'LX' )\n",
    "           AND usedflag = 1\n",
    "           AND linkprim IN ( 'P', 'C' )\n",
    "), capiq as (\n",
    "    SELECT gvkey, datadate, tic, cik FROM comp_na_daily_all.secm WHERE primiss='P'\n",
    ") SELECT distinct links.gvkey, permno, permco, linkdt, linkenddt, cik, tic\n",
    "FROM links LEFT JOIN capiq \n",
    "    ON links.gvkey = capiq.gvkey \n",
    "    AND (links.linkdt <= capiq.datadate)\n",
    "    AND (capiq.datadate <= links.linkenddt)\n",
    "'''\n",
    "def _try_to_int(x):\n",
    "    try:\n",
    "        return int(x)\n",
    "    except:\n",
    "        return None\n",
    "\n",
    "link_cik = db.raw_sql(qry)\n",
    "for c in ['gvkey', 'permno', 'permco', 'cik']:\n",
    "    link_cik[c] = link_cik[c].apply(_try_to_int)\n",
    "link_cik['tic'] = link_cik['tic'].apply(lambda x: x.split('.')[0] if isinstance(x, str) else x)\n",
    "link_cik = link_cik.dropna(subset=['cik', 'tic']).drop_duplicates()\n",
    "link_cik.head(5)"
   ]
  },
  {
   "cell_type": "code",
   "execution_count": 15,
   "id": "86e6231c-4eab-4c3f-a249-1726d3ff32b0",
   "metadata": {},
   "outputs": [],
   "source": [
    "link_cik = link_cik[['gvkey','linkdt', 'linkenddt', 'cik']]\n",
    "link_cik[\"linkdt\"] = pd.to_datetime(link_cik[\"linkdt\"])\n",
    "link_cik[\"linkenddt\"] = pd.to_datetime(link_cik[\"linkenddt\"])\n",
    "link_cik = link_cik.sort_values(by = ['linkdt'])\n",
    "link_cik['cik'] = link_cik['cik'].astype(int)"
   ]
  },
  {
   "cell_type": "markdown",
   "id": "bccebc90-69c9-4fea-81fd-f2bd54e837cc",
   "metadata": {},
   "source": [
    "## Create Mapping from SICH to Fama French 48 Industry Classification"
   ]
  },
  {
   "cell_type": "code",
   "execution_count": 28,
   "id": "d0177813-97d9-4bde-bf42-cfe9e3bac77e",
   "metadata": {},
   "outputs": [],
   "source": [
    "# download Fama French 48 classification here: https://mba.tuck.dartmouth.edu/pages/faculty/ken.french/Data_Library/det_48_ind_port.html\n",
    "siccodes48_path = '' # path to wherever the downloaded siccodes48 file is stored"
   ]
  },
  {
   "cell_type": "code",
   "execution_count": 29,
   "id": "8f707f23-4451-4a2c-94c3-a9d5efd13b1c",
   "metadata": {},
   "outputs": [],
   "source": [
    "from collections import OrderedDict\n",
    "\n",
    "def _get_ff_ind_map(filename):\n",
    "    indMap = OrderedDict()\n",
    "    \n",
    "    with open(filename) as ffFile:\n",
    "        curClass = 0\n",
    "        for line in ffFile:\n",
    "            if line[:2] == '  ' and line.strip():\n",
    "                # In ranges of SIC codes\n",
    "                start, end = line.split()[0].split('-')\n",
    "                for code in range(int(start), int(end)+1):\n",
    "                    indMap[code] = curClass\n",
    "            elif line.strip():\n",
    "                # In the start of a new class\n",
    "                curClass = int(line.split()[0])\n",
    "            else:\n",
    "                # Blank line\n",
    "                pass\n",
    "                \n",
    "    return indMap\n",
    "\n",
    "ff48 = _get_ff_ind_map(siccodes48_path)\n",
    "ff48[6797] = 47 # 6797 is not on ff48 but a lot of financial companies seem to be labeled with this SICH"
   ]
  },
  {
   "cell_type": "code",
   "execution_count": 30,
   "id": "1b486a1f-05e1-434b-8c22-406c23d2c325",
   "metadata": {},
   "outputs": [],
   "source": [
    "with open(siccodes48_path) as ffFile:\n",
    "    code2des_48 = {}\n",
    "    for line in ffFile:\n",
    "        if line[:2] != '  ' and line != '\\n':\n",
    "            category = int(line[:2].strip())\n",
    "            des = line[3:8].strip()\n",
    "            code2des_48[category] = des"
   ]
  },
  {
   "cell_type": "markdown",
   "id": "7b20aa05-c6ed-435b-8926-225fe2159c78",
   "metadata": {},
   "source": [
    "## Merge summary stats with SEC index, link-cik and funda"
   ]
  },
  {
   "cell_type": "code",
   "execution_count": 18,
   "id": "d0150281-4b04-40b7-af39-f7bbf35cdacb",
   "metadata": {},
   "outputs": [],
   "source": [
    "summary_stats_final_cik = summary_stats_final_96_23.merge(\n",
    "    sec_unique_acc_date[['accession', 'cik', 'form_type', 'date']],\n",
    "    on = ['accession', 'date', 'form_type'],\n",
    "    how = 'left'\n",
    ")"
   ]
  },
  {
   "cell_type": "code",
   "execution_count": 19,
   "id": "4f779507-d48c-4d73-8383-173bb3cd468c",
   "metadata": {},
   "outputs": [],
   "source": [
    "summary_stats_final_cik = summary_stats_final_cik.dropna(subset=['cik'])\n",
    "summary_stats_final_cik['cik'] = summary_stats_final_cik['cik'].apply(np.int64)\n",
    "summary_stats_final_cik = summary_stats_final_cik.sort_values(by = ['date'])"
   ]
  },
  {
   "cell_type": "code",
   "execution_count": 20,
   "id": "df0a69a7-893d-4604-a851-06d9043f293f",
   "metadata": {},
   "outputs": [],
   "source": [
    "summary_stats_gvkey = pd.merge_asof(\n",
    "    summary_stats_final_cik,\n",
    "    link_cik, \n",
    "    left_on= 'date',\n",
    "    right_on= 'linkdt',\n",
    "    by = 'cik', \n",
    "    direction = 'backward'\n",
    ")\n",
    "assert summary_stats_gvkey.shape[0] == summary_stats_final_cik.shape[0]"
   ]
  },
  {
   "cell_type": "code",
   "execution_count": 21,
   "id": "6ad56105-2130-4282-ab74-e137dccb7429",
   "metadata": {},
   "outputs": [],
   "source": [
    "comp_dates = lambda row : row['linkenddt']>=row['date']\n",
    "summary_stats_gvkey['dates_matched'] = summary_stats_gvkey.apply(comp_dates, axis=1)\n",
    "summary_stats_gvkey.loc[summary_stats_gvkey.dates_matched == False, 'gvkey'] = -1.0"
   ]
  },
  {
   "cell_type": "code",
   "execution_count": 22,
   "id": "5c1b9921-fc4e-48df-baf8-b7c3597cd2b4",
   "metadata": {},
   "outputs": [],
   "source": [
    "with_gv_stats = summary_stats_gvkey[summary_stats_gvkey.gvkey != -1.0].drop(columns= ['linkdt', 'linkenddt', 'dates_matched'], axis = 1)\n",
    "with_gv_stats['gvkey'] = with_gv_stats['gvkey'].astype(int)\n",
    "with_gv_stats['gvkey'] = with_gv_stats['gvkey'].astype(str)\n",
    "with_gv_stats['gvkey'] = with_gv_stats['gvkey'].str.zfill(6)\n",
    "with_gv_stats = with_gv_stats.sort_values(by='date')"
   ]
  },
  {
   "cell_type": "code",
   "execution_count": 23,
   "id": "903166a5-94a7-4588-8fa9-76b8c8a254d0",
   "metadata": {},
   "outputs": [],
   "source": [
    "gvkey_funda_stats = pd.merge_asof(\n",
    "    with_gv_stats, \n",
    "    funda, \n",
    "    on=\"date\", \n",
    "    by=\"gvkey\", \n",
    "    direction='backward'\n",
    ")\n",
    "assert with_gv_stats.shape[0] == gvkey_funda_stats.shape[0]\n",
    "\n",
    "gvkey_funda_stats = gvkey_funda_stats.dropna(subset=['conm'])"
   ]
  },
  {
   "cell_type": "code",
   "execution_count": 29,
   "id": "92645ab1-75f1-486f-ac4c-70ede8f2a7a2",
   "metadata": {},
   "outputs": [
    {
     "data": {
      "text/plain": [
       "16667"
      ]
     },
     "execution_count": 29,
     "metadata": {},
     "output_type": "execute_result"
    }
   ],
   "source": [
    "len(set(gvkey_funda_stats['cik']))"
   ]
  },
  {
   "cell_type": "code",
   "execution_count": 177,
   "id": "08b4285b-e00e-48b0-968d-4103bc93ec14",
   "metadata": {},
   "outputs": [],
   "source": [
    "gvkey_funda_stats['industry_48'] = gvkey_funda_stats['sich'].map(ff48)\n",
    "gvkey_funda_stats['industry_48'] = gvkey_funda_stats['industry_48'].fillna(48.0)\n",
    "gvkey_funda_stats['ind48_category'] = gvkey_funda_stats['industry_48'].map(code2des_48)"
   ]
  },
  {
   "cell_type": "markdown",
   "id": "e1842543-a0f1-490a-99cb-6d07073002a8",
   "metadata": {},
   "source": [
    "# Figure 3: Top 10 industries with highest token volume"
   ]
  },
  {
   "cell_type": "markdown",
   "id": "855393d7-73b2-41da-8f0a-0e2e3cd0d0d6",
   "metadata": {},
   "source": [
    "**Note**: Ordering of some industries can change due to changes in compustat; the most recent plot was made by authors on 2024-06-11."
   ]
  },
  {
   "cell_type": "code",
   "execution_count": 178,
   "id": "2b6a3ee7-9109-46d5-9a80-52712bd91226",
   "metadata": {},
   "outputs": [],
   "source": [
    "industry2tokens = pd.DataFrame(gvkey_funda_stats.groupby('ind48_category')['n_token'].sum()) \\\n",
    "    .sort_values(by=['n_token'], ascending = False) \\\n",
    "    .reset_index()"
   ]
  },
  {
   "cell_type": "code",
   "execution_count": 179,
   "id": "aaec3c94-e5d6-4b6d-85a6-66eb6c96f6dc",
   "metadata": {},
   "outputs": [
    {
     "data": {
      "image/png": "[encoded data removed]",
      "text/plain": [
       "<Figure size 640x400 with 1 Axes>"
      ]
     },
     "metadata": {},
     "output_type": "display_data"
    }
   ],
   "source": [
    "fig, ax = plt.subplots()\n",
    "\n",
    "# Example data\n",
    "industries = np.array(industry2tokens['ind48_category'].head(10))\n",
    "y_pos = np.arange(len(industries))\n",
    "num_tokens = np.array(industry2tokens['n_token'].head(10))\n",
    "\n",
    "ax.barh(y_pos, num_tokens, align='center')\n",
    "ax.set_yticks(y_pos, labels=industries)\n",
    "ax.invert_yaxis()  # labels read top-to-bottom\n",
    "ax.set_xlabel(\"Number of tokens\")\n",
    "ax.set_ylabel(\"Industries\")\n",
    "# ax.set_title('Industries and associated number of tokens')\n",
    "fig.set_figheight(4)\n",
    "plt.show()"
   ]
  },
  {
   "cell_type": "markdown",
   "id": "0e3266da-9682-45ff-b9d2-3555f0e3b893",
   "metadata": {},
   "source": [
    "# Figure 4: Firms that contribute the most to textual volume"
   ]
  },
  {
   "cell_type": "markdown",
   "id": "f382ec36-1771-4934-966a-7b7a84513ba0",
   "metadata": {},
   "source": [
    "**Note**: Ordering/inclusion of some entities can change due to changes in compustat; the most recent plot was made by authors on 2024-06-11."
   ]
  },
  {
   "cell_type": "markdown",
   "id": "9fa1c700-241f-467c-973b-ed08cbaf5e9e",
   "metadata": {},
   "source": [
    "## Table 4a: Top 20 contributing firms"
   ]
  },
  {
   "cell_type": "code",
   "execution_count": 180,
   "id": "3c9cd6b7-bffb-4681-bfbb-c49b3ee51d6b",
   "metadata": {},
   "outputs": [],
   "source": [
    "companies2n_token = pd.DataFrame(gvkey_funda_stats.groupby(['gvkey', 'conm'])['n_token'].sum()) \\\n",
    "    .sort_values(by=['n_token'], ascending = False).reset_index()"
   ]
  },
  {
   "cell_type": "code",
   "execution_count": 181,
   "id": "ed646a23-24b5-40f8-8316-78fde2fd29d2",
   "metadata": {},
   "outputs": [],
   "source": [
    "companies2n_token['percent_tokens'] = 100*(companies2n_token['n_token'] /  companies2n_token['n_token'].sum())\n",
    "companies2n_token = companies2n_token.sort_values(by=['percent_tokens'], ascending = False)"
   ]
  },
  {
   "cell_type": "code",
   "execution_count": 182,
   "id": "7fe42ee7-eeed-411c-b505-217d195a878f",
   "metadata": {},
   "outputs": [],
   "source": [
    "top20_firms = companies2n_token.head(20)"
   ]
  },
  {
   "cell_type": "code",
   "execution_count": 183,
   "id": "312591ab-8508-48c0-91ac-a577f81f6e40",
   "metadata": {},
   "outputs": [
    {
     "data": {
      "image/png": "[encoded data removed]",
      "text/plain": [
       "<Figure size 640x480 with 1 Axes>"
      ]
     },
     "metadata": {},
     "output_type": "display_data"
    }
   ],
   "source": [
    "fig, ax = plt.subplots()\n",
    "\n",
    "# Example data\n",
    "companies = np.array(top20_firms['conm'].head(20))\n",
    "y_pos = np.arange(len(companies))\n",
    "percentage_total_tokens = np.array(top20_firms['n_token'].head(20))\n",
    "\n",
    "ax.barh(y_pos, percentage_total_tokens, align='center')\n",
    "ax.set_yticks(y_pos, labels=companies)\n",
    "ax.invert_yaxis()  # labels read top-to-bottom\n",
    "ax.set_xlabel(\"Number of tokens\")\n",
    "ax.tick_params(labelsize = 15)\n",
    "\n",
    "plt.show()"
   ]
  },
  {
   "cell_type": "markdown",
   "id": "7727bd6f-5712-4dad-941c-992a1732712e",
   "metadata": {},
   "source": [
    "## Table 4b: Top 20 non-financial contributing firms"
   ]
  },
  {
   "cell_type": "code",
   "execution_count": 184,
   "id": "b79bfb3e-a03a-408d-92e2-88b5b9c735db",
   "metadata": {},
   "outputs": [],
   "source": [
    "wo_fin_related_stats = gvkey_funda_stats[~gvkey_funda_stats['ind48_category'].isin(['Banks', 'Fin', 'RlEst', 'Insur'])]"
   ]
  },
  {
   "cell_type": "code",
   "execution_count": 185,
   "id": "88f31645-2534-4036-9855-11bcd9da4f3f",
   "metadata": {},
   "outputs": [],
   "source": [
    "gvkey_conm_industry = pd.DataFrame(gvkey_funda_stats.groupby(['gvkey', 'conm'])['ind48_category'].unique()).reset_index()\n",
    "fin_set = set(['Banks', 'Fin', 'RlEst', 'Insur'])\n",
    "gvkey_conm_industry['fin_related'] = gvkey_conm_industry['ind48_category'].apply(lambda x: True if (set(x) & fin_set) else False )\n",
    "nonfin_companies = gvkey_conm_industry[gvkey_conm_industry['fin_related'] == False]"
   ]
  },
  {
   "cell_type": "code",
   "execution_count": 186,
   "id": "f5002b0d-262b-451e-b7d9-cf3096d67c33",
   "metadata": {},
   "outputs": [],
   "source": [
    "no_fin_companies2tokens = pd.DataFrame(wo_fin_related_stats.groupby(['gvkey', 'conm'])['n_token'].sum()) \\\n",
    "    .sort_values(by=['n_token'], ascending = False).reset_index()\n",
    "\n",
    "no_fin_companies2tokens = nonfin_companies[['gvkey', 'conm']].merge(\n",
    "    no_fin_companies2tokens,\n",
    "    on = ['gvkey', 'conm'],\n",
    "    how = 'left'\n",
    ")"
   ]
  },
  {
   "cell_type": "code",
   "execution_count": 187,
   "id": "4513a58c-0a3a-4b1c-b093-a04bc86dc77d",
   "metadata": {},
   "outputs": [],
   "source": [
    "no_fin_comp2tokens2sich = no_fin_companies2tokens.merge(\n",
    "    funda,\n",
    "    on = ['gvkey', 'conm'],\n",
    "    how = 'left'\n",
    ")"
   ]
  },
  {
   "cell_type": "code",
   "execution_count": 188,
   "id": "9bd231ff-c99b-4bbb-9481-0fbb667b2d65",
   "metadata": {},
   "outputs": [],
   "source": [
    "no_fin_comp2tokens2sich = no_fin_comp2tokens2sich.drop_duplicates(subset=['gvkey', 'conm']).sort_values(by=['n_token'], ascending = False).reset_index().head(20)\n",
    "no_fin_comp2tokens2sich['percent_token'] = 100*(no_fin_comp2tokens2sich['n_token'] / no_fin_comp2tokens2sich['n_token'].sum())\n",
    "no_fin_comp2tokens2sich['industry_48'] = no_fin_comp2tokens2sich['sich'].map(ff48)\n",
    "no_fin_comp2tokens2sich['industry_48'] = no_fin_comp2tokens2sich['industry_48'].fillna(48.0)\n",
    "no_fin_comp2tokens2sich['ind48_category'] = no_fin_comp2tokens2sich['industry_48'].map(code2des_48)"
   ]
  },
  {
   "cell_type": "code",
   "execution_count": 189,
   "id": "83e0f2cf-1fbb-4522-b5b9-20794d4785a3",
   "metadata": {},
   "outputs": [],
   "source": [
    "no_fin_top20 = no_fin_comp2tokens2sich.head(20)"
   ]
  },
  {
   "cell_type": "code",
   "execution_count": 190,
   "id": "bc5f1397-b0be-4505-bda5-341fcd4c7ca7",
   "metadata": {},
   "outputs": [
    {
     "data": {
      "image/png": "[encoded data removed]",
      "text/plain": [
       "<Figure size 640x480 with 1 Axes>"
      ]
     },
     "metadata": {},
     "output_type": "display_data"
    }
   ],
   "source": [
    "fig, ax = plt.subplots()\n",
    "\n",
    "# Example data\n",
    "companies = np.array(no_fin_top20['conm'].head(20))\n",
    "y_pos = np.arange(len(companies))\n",
    "avg_char_per_year = np.array(no_fin_top20['n_token'].head(20))\n",
    "\n",
    "ax.barh(y_pos, avg_char_per_year, align='center', height=0.8)\n",
    "ax.set_yticks(y_pos, labels=companies)\n",
    "ax.invert_yaxis()  # labels read top-to-bottom\n",
    "ax.set_xlabel(\"Number of tokens\")\n",
    "ax.tick_params(labelsize = 15)\n",
    "\n",
    "plt.show()"
   ]
  },
  {
   "cell_type": "markdown",
   "id": "d436c438-7e44-4b97-9787-38238a2fce28",
   "metadata": {},
   "source": [
    "# Table 2: Percentage of filings in BeanCounter that contain gender and grammatical pronouns"
   ]
  },
  {
   "cell_type": "code",
   "execution_count": null,
   "id": "59fe589d-186a-49e9-8623-eb78f7569afe",
   "metadata": {},
   "outputs": [],
   "source": [
    "RES_ANALYSIS_DIR = 'sec_pronouns_analysis' # if want to generate the pronouns analysis, see grammatical_gender_pronouns_prevalence.ipynb"
   ]
  },
  {
   "cell_type": "code",
   "execution_count": 72,
   "id": "3f40d2c6-eb98-4dad-8b08-e620c4ed0242",
   "metadata": {},
   "outputs": [],
   "source": [
    "files_to_process = []\n",
    "for path, dirs, fns in os.walk(os.path.join(SUPPORTING_DATA_DIR, RES_ANALYSIS_DIR)):\n",
    "    for fn in fns:\n",
    "        if os.path.splitext(fn)[-1] == '.gz':\n",
    "            files_to_process.append(os.path.join(path, fn))"
   ]
  },
  {
   "cell_type": "code",
   "execution_count": 73,
   "id": "d1d06a72-aee5-40b6-8ce6-f219fb01a357",
   "metadata": {},
   "outputs": [
    {
     "data": {
      "application/vnd.jupyter.widget-view+json": {
       "model_id": "6233c8eb648e4fc8b58611be8dad4986",
       "version_major": 2,
       "version_minor": 0
      },
      "text/plain": [
       "  0%|          | 0/7057 [00:00<?, ?it/s]"
      ]
     },
     "metadata": {},
     "output_type": "display_data"
    }
   ],
   "source": [
    "list_dfs = []\n",
    "for path in tqdm(files_to_process):\n",
    "    with gzip.open(path, 'r') as out_file:\n",
    "        pronouns_df = pd.read_json(out_file, lines=True, orient='records')\n",
    "        list_dfs.append(pronouns_df)\n",
    "\n",
    "beancounter_pronouns_df = pd.concat(list_dfs)"
   ]
  },
  {
   "cell_type": "markdown",
   "id": "caae6cfb-f92b-4463-82d8-676da17625c0",
   "metadata": {},
   "source": [
    "## Grammatical Pronouns"
   ]
  },
  {
   "cell_type": "code",
   "execution_count": 74,
   "id": "828dc1fe-4317-4a78-ac9e-19d80e4743a2",
   "metadata": {},
   "outputs": [],
   "source": [
    "# group all attachments into filings by accession and date. Each filing on EDGAR has unique accession and date\n",
    "groupby_filings = edgar_pronouns_df.groupby(['accession', 'date'])\n",
    "\n",
    "# get grammatical pronoun flag (0 or 1) for each filing\n",
    "grammatical_df = pd.DataFrame(groupby_filings['grammatical'].max()).reset_index()"
   ]
  },
  {
   "cell_type": "code",
   "execution_count": 75,
   "id": "3c40873b-0452-421c-9ca7-511c4d16051e",
   "metadata": {},
   "outputs": [],
   "source": [
    "total_num_filings = groupby_filings.ngroups"
   ]
  },
  {
   "cell_type": "code",
   "execution_count": 76,
   "id": "eb2d1619-91ad-4b64-ade2-0e3fe57029e8",
   "metadata": {},
   "outputs": [],
   "source": [
    "grammatical_dict = {}\n",
    "num_grammatical_filings = grammatical_df['grammatical'].sum()\n",
    "grammatical_dict['grammatical'] = num_grammatical_filings/total_num_filings"
   ]
  },
  {
   "cell_type": "code",
   "execution_count": 77,
   "id": "07c1d441-5092-4674-b8f9-f2fdad37f32b",
   "metadata": {},
   "outputs": [],
   "source": [
    "# 1st person pronouns percentage (given a filing has a grammatical pronoun, how likely is it to contain 1st person pronouns)\n",
    "first_df= pd.DataFrame(groupby_filings['1st_person'].max()).reset_index()\n",
    "grammatical_dict['first_person'] = first_df['1st_person'].sum()/num_grammatical_filings"
   ]
  },
  {
   "cell_type": "code",
   "execution_count": 78,
   "id": "263aee57-7c68-4f94-99ef-b7f7a9433950",
   "metadata": {},
   "outputs": [],
   "source": [
    "# 2nd person pronouns percentage (given a filing has a grammatical pronoun, how likely is it to contain 2nd person pronouns)\n",
    "second_df= pd.DataFrame(groupby_filings['2nd_person'].max()).reset_index()\n",
    "grammatical_dict['second_person'] = second_df['2nd_person'].sum()/num_grammatical_filings"
   ]
  },
  {
   "cell_type": "code",
   "execution_count": 80,
   "id": "dff9363f-5cba-4cc1-976d-917215b84c36",
   "metadata": {},
   "outputs": [],
   "source": [
    "# 3rd person pronouns percentage (given a filing has a grammatical pronoun, how likely is it to contain 3rd person pronouns)\n",
    "third_df= pd.DataFrame(groupby_filings['3rd_person'].max()).reset_index()\n",
    "grammatical_dict['third_person'] = third_df['3rd_person'].sum()/num_grammatical_filings"
   ]
  },
  {
   "cell_type": "markdown",
   "id": "ed799489-9de3-4e30-a898-c5aa519bbfb7",
   "metadata": {},
   "source": [
    "## Gender Pronouns"
   ]
  },
  {
   "cell_type": "code",
   "execution_count": 81,
   "id": "5daf37bd-232c-40ec-a33d-46d376eb5669",
   "metadata": {},
   "outputs": [],
   "source": [
    "gender_df = pd.DataFrame(groupby_filings['gender'].max()).reset_index()"
   ]
  },
  {
   "cell_type": "code",
   "execution_count": 82,
   "id": "2e068c59-da2a-4cac-a01e-b770b22730dc",
   "metadata": {},
   "outputs": [],
   "source": [
    "gender_dict = {}\n",
    "num_gender_filings = gender_df['gender'].sum()\n",
    "gender_dict['gender'] = num_gender_filings/total_num_filings"
   ]
  },
  {
   "cell_type": "code",
   "execution_count": 83,
   "id": "d85faf6a-c225-4acf-9561-d2598db19193",
   "metadata": {},
   "outputs": [],
   "source": [
    "# she pronouns percentage (given a filing has a gender pronoun, how likely is it to contain \"she\" pronouns)\n",
    "she_df= pd.DataFrame(groupby_filings['She'].max()).reset_index()\n",
    "gender_dict['She'] = she_df['She'].sum()/num_gender_filings"
   ]
  },
  {
   "cell_type": "code",
   "execution_count": 84,
   "id": "e03a44a7-d1d1-4bc5-87b4-9e722406e1bc",
   "metadata": {},
   "outputs": [],
   "source": [
    "# he pronouns percentage (given a filing has a gender pronoun, how likely is it to contain \"he\" pronouns)\n",
    "he_df= pd.DataFrame(groupby_filings['He'].max()).reset_index()\n",
    "gender_dict['He'] = he_df['He'].sum()/num_gender_filings"
   ]
  },
  {
   "cell_type": "code",
   "execution_count": 85,
   "id": "e731fccb-a96e-48d5-bae0-e42f3eb9c6b5",
   "metadata": {},
   "outputs": [],
   "source": [
    "# they (or Unknown) pronouns percentage (given a filing has a gender pronoun, how likely is it to contain \"they\" pronouns)\n",
    "unknown_df= pd.DataFrame(groupby_filings['Unknown'].max()).reset_index()\n",
    "gender_dict['Unknown'] = unknown_df['Unknown'].sum()/gender_df['gender'].sum()"
   ]
  },
  {
   "cell_type": "markdown",
   "id": "641e6cf1-c3c5-459b-8e98-d7730abe3a1c",
   "metadata": {},
   "source": [
    "## Generate final dataframe with statistics"
   ]
  },
  {
   "cell_type": "code",
   "execution_count": 86,
   "id": "760a422a-db21-48a9-8926-f3b21b7d343e",
   "metadata": {},
   "outputs": [],
   "source": [
    "gender_pronouns_df = pd.DataFrame(gender_dict.items(), columns = ['gender_pronoun_category', 'percentage_filings'])\n",
    "grammatical_pronouns_df = pd.DataFrame(grammatical_dict.items(), columns = ['grammatical_pronoun_category', 'percentage_filings'])"
   ]
  },
  {
   "cell_type": "code",
   "execution_count": 87,
   "id": "0d8cf784-22ec-406f-8df4-a792ebda5db6",
   "metadata": {},
   "outputs": [],
   "source": [
    "table2_df = pd.concat([gender_pronouns_df, grammatical_pronouns_df], axis=1)"
   ]
  },
  {
   "cell_type": "code",
   "execution_count": 88,
   "id": "10e1979b-74af-476b-a287-c15c6531ee76",
   "metadata": {},
   "outputs": [
    {
     "data": {
      "text/html": [
       "<div>\n",
       "<style scoped>\n",
       "    .dataframe tbody tr th:only-of-type {\n",
       "        vertical-align: middle;\n",
       "    }\n",
       "\n",
       "    .dataframe tbody tr th {\n",
       "        vertical-align: top;\n",
       "    }\n",
       "\n",
       "    .dataframe thead th {\n",
       "        text-align: right;\n",
       "    }\n",
       "</style>\n",
       "<table border=\"1\" class=\"dataframe\">\n",
       "  <thead>\n",
       "    <tr style=\"text-align: right;\">\n",
       "      <th></th>\n",
       "      <th>gender_pronoun_category</th>\n",
       "      <th>percentage_filings</th>\n",
       "      <th>grammatical_pronoun_category</th>\n",
       "      <th>percentage_filings</th>\n",
       "    </tr>\n",
       "  </thead>\n",
       "  <tbody>\n",
       "    <tr>\n",
       "      <th>0</th>\n",
       "      <td>gender</td>\n",
       "      <td>0.682296</td>\n",
       "      <td>grammatical</td>\n",
       "      <td>0.944853</td>\n",
       "    </tr>\n",
       "    <tr>\n",
       "      <th>1</th>\n",
       "      <td>She</td>\n",
       "      <td>0.298089</td>\n",
       "      <td>first_person</td>\n",
       "      <td>0.692232</td>\n",
       "    </tr>\n",
       "    <tr>\n",
       "      <th>2</th>\n",
       "      <td>He</td>\n",
       "      <td>0.485058</td>\n",
       "      <td>second_person</td>\n",
       "      <td>0.437830</td>\n",
       "    </tr>\n",
       "    <tr>\n",
       "      <th>3</th>\n",
       "      <td>Unknown</td>\n",
       "      <td>0.937618</td>\n",
       "      <td>third_person</td>\n",
       "      <td>0.955699</td>\n",
       "    </tr>\n",
       "  </tbody>\n",
       "</table>\n",
       "</div>"
      ],
      "text/plain": [
       "  gender_pronoun_category  percentage_filings grammatical_pronoun_category  \\\n",
       "0                  gender            0.682296                  grammatical   \n",
       "1                     She            0.298089                 first_person   \n",
       "2                      He            0.485058                second_person   \n",
       "3                 Unknown            0.937618                 third_person   \n",
       "\n",
       "   percentage_filings  \n",
       "0            0.944853  \n",
       "1            0.692232  \n",
       "2            0.437830  \n",
       "3            0.955699  "
      ]
     },
     "execution_count": 88,
     "metadata": {},
     "output_type": "execute_result"
    }
   ],
   "source": [
    "table2_df"
   ]
  },
  {
   "cell_type": "markdown",
   "id": "79de8826-467b-4c8f-9259-d5e97b6956f5",
   "metadata": {},
   "source": [
    "# Table 3: Demographic Representation and Toxicity"
   ]
  },
  {
   "cell_type": "code",
   "execution_count": 4,
   "id": "ca1637be-6a3c-411e-ac19-8b22809749a0",
   "metadata": {},
   "outputs": [],
   "source": [
    "with open(os.path.join(TOXICITY_DEMOGRAPHIC_ANALYSIS_DIR,'descriptors_to_categories.json'), 'r') as f:\n",
    "    desc2category = json.load(f)"
   ]
  },
  {
   "cell_type": "code",
   "execution_count": 5,
   "id": "0e7dc842-3daf-4103-805a-f8d9f191171a",
   "metadata": {},
   "outputs": [],
   "source": [
    "with open(os.path.join(TOXICITY_DEMOGRAPHIC_ANALYSIS_DIR,'demographic_descriptors.json'), 'r') as f:\n",
    "    tox_analysis_descriptors = json.load(f)"
   ]
  },
  {
   "cell_type": "code",
   "execution_count": 3,
   "id": "2493911d-2351-4c2b-b538-4c49d16fe6e7",
   "metadata": {},
   "outputs": [],
   "source": [
    "BC_EXTRACTED_SENTENCES_DIR = 'beancounter_extracted_descriptor_sentences'\n",
    "C4_EXTRACTED_SENTENCES_DIR = 'c4_sentences_w_descriptors'\n",
    "C4_SENTENCE_BATCH_DIR = 'c4_perspective_sentence_batches'\n",
    "BC_SENTENCE_BATCH_DIR = 'beancounter_sentences_batches'\n",
    "BC_DESCRIPTOR_COUNT_CSV = 'descriptor2count_edgar.csv'\n",
    "BC_PERSPECTIVE_SCORES = 'beancounter_perspective_scores'\n",
    "C4_PERSPECTIVE_SCORES = 'c4_perspective_scores'"
   ]
  },
  {
   "cell_type": "code",
   "execution_count": 6,
   "id": "56072c85-e5b1-4b3e-a511-4ed81e725a8e",
   "metadata": {},
   "outputs": [],
   "source": [
    "variation2original = {}\n",
    "for desc in tox_analysis_descriptors:\n",
    "    if '-' in desc:\n",
    "        variation2original[desc.replace('-', ' ')] = desc\n",
    "    elif ' ' in desc:\n",
    "        variation2original[desc.replace(' ', '-')] = desc\n",
    "    variation2original[desc] = desc"
   ]
  },
  {
   "cell_type": "markdown",
   "id": "8de68a62-aa47-464b-95ab-1d5af9a449e1",
   "metadata": {},
   "source": [
    "## Table 3a"
   ]
  },
  {
   "cell_type": "code",
   "execution_count": 7,
   "id": "a980fbd7-e16a-42e6-977e-5d062caa0812",
   "metadata": {},
   "outputs": [],
   "source": [
    "files_to_process = []\n",
    "for path, dirs, fns in os.walk(os.path.join(SUPPORTING_DATA_DIR, BC_EXTRACTED_SENTENCES_DIR)):\n",
    "    for fn in fns:\n",
    "        if os.path.splitext(fn)[-1] == '.gz':\n",
    "            files_to_process.append(os.path.join(path, fn))"
   ]
  },
  {
   "cell_type": "code",
   "execution_count": 8,
   "id": "1fc2952f-336d-477e-b4c2-72292353e237",
   "metadata": {},
   "outputs": [],
   "source": [
    "def work(path):\n",
    "    with gzip.open(path, 'r') as out_file:\n",
    "        try:\n",
    "            info_df = pd.read_json(out_file, lines=True, orient='records')\n",
    "            if info_df.empty:\n",
    "                return\n",
    "            info_df['original_descriptor'] = info_df['descriptor'].apply(lambda x : variation2original[x] if x in variation2original.keys() else x)\n",
    "            return info_df\n",
    "        except:\n",
    "            return path"
   ]
  },
  {
   "cell_type": "code",
   "execution_count": 9,
   "id": "c8710087-d0a0-4f4f-b55b-931ab33b300e",
   "metadata": {},
   "outputs": [
    {
     "data": {
      "application/vnd.jupyter.widget-view+json": {
       "model_id": "3e91a73525f84d50a802ca451450604c",
       "version_major": 2,
       "version_minor": 0
      },
      "text/plain": [
       "  0%|          | 0/733 [00:00<?, ?it/s]"
      ]
     },
     "metadata": {},
     "output_type": "display_data"
    }
   ],
   "source": [
    "with mp.Pool(16) as p:\n",
    "    info_dfs = [r for r in tqdm(p.imap_unordered(work, files_to_process), total=len(files_to_process), miniters=1)]"
   ]
  },
  {
   "cell_type": "code",
   "execution_count": 10,
   "id": "fb738af1-9102-4ddd-8356-1bc4b1711531",
   "metadata": {},
   "outputs": [],
   "source": [
    "all_sentences_edgar = pd.concat(info_dfs)\n",
    "all_sentences_edgar['broad_category'] = all_sentences_edgar['original_descriptor'].apply(lambda x : desc2category[x][0])"
   ]
  },
  {
   "cell_type": "code",
   "execution_count": 201,
   "id": "e296582b-95eb-45d8-aff9-231a4409d582",
   "metadata": {},
   "outputs": [],
   "source": [
    "acc_date2categories = pd.DataFrame(all_sentences_edgar.groupby(['accession', 'date'])['broad_category'].unique()) \\\n",
    "    .reset_index().rename(columns = {'broad_category' : 'unique_categories'})"
   ]
  },
  {
   "cell_type": "code",
   "execution_count": 202,
   "id": "9200d02e-4ea8-4c85-9b91-b6b9692b471b",
   "metadata": {},
   "outputs": [],
   "source": [
    "acc_date2categories['race_ethnicity'] = acc_date2categories['unique_categories'].apply(lambda x: 1 if 'race_ethnicity' in x else 0)\n",
    "acc_date2categories['nationality'] =  acc_date2categories['unique_categories'].apply(lambda x: 1 if 'nationality' in x else 0)\n",
    "acc_date2categories['religion'] =  acc_date2categories['unique_categories'].apply(lambda x: 1 if 'religion' in x else 0)\n",
    "acc_date2categories['gender_and_sex'] =  acc_date2categories['unique_categories'].apply(lambda x: 1 if 'gender_and_sex' in x else 0)\n",
    "acc_date2categories['sexual_orientation'] =  acc_date2categories['unique_categories'].apply(lambda x: 1 if 'sexual_orientation' in x else 0)"
   ]
  },
  {
   "cell_type": "code",
   "execution_count": 203,
   "id": "f5e33a11-a74e-45f7-b07e-0aac772794a3",
   "metadata": {},
   "outputs": [],
   "source": [
    "percent_filings_w_SO = 100*(acc_date2categories['sexual_orientation'].sum() / acc_date2categories.shape[0])\n",
    "percent_filings_w_nat = 100*(acc_date2categories['nationality'].sum() / acc_date2categories.shape[0])\n",
    "percent_filings_w_GE = 100*(acc_date2categories['gender_and_sex'].sum() / acc_date2categories.shape[0])\n",
    "percent_filings_w_rel = 100*(acc_date2categories['religion'].sum() / acc_date2categories.shape[0])\n",
    "percent_filings_w_RE = 100*(acc_date2categories['race_ethnicity'].sum() / acc_date2categories.shape[0])"
   ]
  },
  {
   "cell_type": "code",
   "execution_count": 204,
   "id": "68c11c39-95f2-4c13-8c70-e904b7c7098c",
   "metadata": {},
   "outputs": [],
   "source": [
    "category2percent_filings = {\n",
    "    'sexual_orientation' : percent_filings_w_SO,\n",
    "    'nationality' : percent_filings_w_nat,\n",
    "    'gender_and_sex' : percent_filings_w_GE,\n",
    "    'religion' : percent_filings_w_rel,\n",
    "    'race_ethnicity' : percent_filings_w_RE\n",
    "}"
   ]
  },
  {
   "cell_type": "code",
   "execution_count": 205,
   "id": "de4c1899-143e-41c8-8334-2bae1e86b376",
   "metadata": {},
   "outputs": [],
   "source": [
    "acc_date_cat_desc = pd.DataFrame(all_sentences_edgar.groupby(['accession', 'date', 'broad_category'])['original_descriptor'].unique()).reset_index()"
   ]
  },
  {
   "cell_type": "code",
   "execution_count": 206,
   "id": "5a6cd094-5fe2-43a0-9bbd-2cd5c121dd55",
   "metadata": {},
   "outputs": [],
   "source": [
    "def get_prevalence_category(category):\n",
    "    cat_list = list(acc_date_cat_desc[acc_date_cat_desc['broad_category'] == category]['original_descriptor'])\n",
    "\n",
    "    combined_cat_list = []\n",
    "    for i in cat_list:\n",
    "        for j in i:\n",
    "            combined_cat_list.append(j)\n",
    "    cat_freq = Counter(combined_cat_list)\n",
    "    \n",
    "    cat2prevalence = {}\n",
    "    for cat, freq in cat_freq.items():\n",
    "        percent_of_category = 100*(freq / acc_date2categories[category].sum())\n",
    "        cat2prevalence[cat] = percent_of_category\n",
    "    \n",
    "    return pd.DataFrame(dict(sorted(cat2prevalence.items(), key=lambda item: item[1], reverse = True)).items()).rename(columns = {0: 'descriptor', 1:'percent_filings'}).head()"
   ]
  },
  {
   "cell_type": "code",
   "execution_count": 234,
   "id": "35508ef1-2fda-4fbf-889a-aed498f8d41c",
   "metadata": {},
   "outputs": [],
   "source": [
    "SO_top5 = get_prevalence_category('sexual_orientation')\n",
    "nat_top5 = get_prevalence_category('nationality')\n",
    "GS_top5 = get_prevalence_category('gender_and_sex')\n",
    "rel_top5 = get_prevalence_category('religion')\n",
    "RE_top5 = get_prevalence_category('race_ethnicity')"
   ]
  },
  {
   "cell_type": "code",
   "execution_count": 235,
   "id": "2c3301f2-9483-411f-b86e-f62819ee5aca",
   "metadata": {},
   "outputs": [],
   "source": [
    "cat2percent_filings_edgar = pd.DataFrame(category2percent_filings.items(), columns = ['category', 'precent_filings'])"
   ]
  },
  {
   "cell_type": "code",
   "execution_count": 236,
   "id": "03b52018-4f4e-4158-9a32-2acdf2d514e6",
   "metadata": {},
   "outputs": [],
   "source": [
    "SO_top5['category'] = 'sexual_orientation'\n",
    "SO_top5['percent_filings_category'] = category2percent_filings['sexual_orientation']"
   ]
  },
  {
   "cell_type": "code",
   "execution_count": 237,
   "id": "9e2b609a-ac4a-4e2c-9eb6-2e2d908cee1c",
   "metadata": {},
   "outputs": [],
   "source": [
    "nat_top5['category'] = 'nationality'\n",
    "nat_top5['percent_filings_category'] = category2percent_filings['nationality']"
   ]
  },
  {
   "cell_type": "code",
   "execution_count": 238,
   "id": "0fdd1b8d-cf16-4666-b78c-5dcb74097dec",
   "metadata": {},
   "outputs": [],
   "source": [
    "GS_top5['category'] = 'gender_and_sex'\n",
    "GS_top5['percent_filings_category'] = category2percent_filings['gender_and_sex']"
   ]
  },
  {
   "cell_type": "code",
   "execution_count": 239,
   "id": "84eab4f3-3894-4944-af5a-eef8d5b5c036",
   "metadata": {},
   "outputs": [],
   "source": [
    "rel_top5['category'] = 'religion'\n",
    "rel_top5['percent_filings_category'] = category2percent_filings['religion']"
   ]
  },
  {
   "cell_type": "code",
   "execution_count": 240,
   "id": "be126e70-7cc0-4cbb-a6f1-a117bb874e2c",
   "metadata": {},
   "outputs": [],
   "source": [
    "RE_top5['category'] = 'race_ethnicity'\n",
    "RE_top5['percent_filings_category'] = category2percent_filings['race_ethnicity']"
   ]
  },
  {
   "cell_type": "code",
   "execution_count": 244,
   "id": "8b7cd014-3a22-4f3c-9b7a-271822d0cce3",
   "metadata": {},
   "outputs": [],
   "source": [
    "beancounter_prevalence = pd.concat([SO_top5, nat_top5, GS_top5, rel_top5, RE_top5])"
   ]
  },
  {
   "cell_type": "code",
   "execution_count": 245,
   "id": "6fec4f5f-5888-4b0e-b0a1-cb52a8939648",
   "metadata": {},
   "outputs": [
    {
     "data": {
      "text/html": [
       "<div>\n",
       "<style scoped>\n",
       "    .dataframe tbody tr th:only-of-type {\n",
       "        vertical-align: middle;\n",
       "    }\n",
       "\n",
       "    .dataframe tbody tr th {\n",
       "        vertical-align: top;\n",
       "    }\n",
       "\n",
       "    .dataframe thead th {\n",
       "        text-align: right;\n",
       "    }\n",
       "</style>\n",
       "<table border=\"1\" class=\"dataframe\">\n",
       "  <thead>\n",
       "    <tr style=\"text-align: right;\">\n",
       "      <th></th>\n",
       "      <th>descriptor</th>\n",
       "      <th>percent_filings</th>\n",
       "      <th>category</th>\n",
       "      <th>percent_filings_category</th>\n",
       "    </tr>\n",
       "  </thead>\n",
       "  <tbody>\n",
       "    <tr>\n",
       "      <th>0</th>\n",
       "      <td>LGBTQ</td>\n",
       "      <td>55.690686</td>\n",
       "      <td>sexual_orientation</td>\n",
       "      <td>0.326877</td>\n",
       "    </tr>\n",
       "    <tr>\n",
       "      <th>1</th>\n",
       "      <td>gay</td>\n",
       "      <td>32.664437</td>\n",
       "      <td>sexual_orientation</td>\n",
       "      <td>0.326877</td>\n",
       "    </tr>\n",
       "    <tr>\n",
       "      <th>2</th>\n",
       "      <td>lesbian</td>\n",
       "      <td>28.276072</td>\n",
       "      <td>sexual_orientation</td>\n",
       "      <td>0.326877</td>\n",
       "    </tr>\n",
       "    <tr>\n",
       "      <th>3</th>\n",
       "      <td>LGBT</td>\n",
       "      <td>16.124455</td>\n",
       "      <td>sexual_orientation</td>\n",
       "      <td>0.326877</td>\n",
       "    </tr>\n",
       "    <tr>\n",
       "      <th>4</th>\n",
       "      <td>bisexual</td>\n",
       "      <td>15.850816</td>\n",
       "      <td>sexual_orientation</td>\n",
       "      <td>0.326877</td>\n",
       "    </tr>\n",
       "    <tr>\n",
       "      <th>0</th>\n",
       "      <td>American</td>\n",
       "      <td>91.576668</td>\n",
       "      <td>nationality</td>\n",
       "      <td>79.291683</td>\n",
       "    </tr>\n",
       "    <tr>\n",
       "      <th>1</th>\n",
       "      <td>Chinese</td>\n",
       "      <td>11.278265</td>\n",
       "      <td>nationality</td>\n",
       "      <td>79.291683</td>\n",
       "    </tr>\n",
       "    <tr>\n",
       "      <th>2</th>\n",
       "      <td>Mexican</td>\n",
       "      <td>6.506910</td>\n",
       "      <td>nationality</td>\n",
       "      <td>79.291683</td>\n",
       "    </tr>\n",
       "    <tr>\n",
       "      <th>3</th>\n",
       "      <td>Indian</td>\n",
       "      <td>6.131639</td>\n",
       "      <td>nationality</td>\n",
       "      <td>79.291683</td>\n",
       "    </tr>\n",
       "    <tr>\n",
       "      <th>4</th>\n",
       "      <td>Korean</td>\n",
       "      <td>3.269979</td>\n",
       "      <td>nationality</td>\n",
       "      <td>79.291683</td>\n",
       "    </tr>\n",
       "    <tr>\n",
       "      <th>0</th>\n",
       "      <td>feminine</td>\n",
       "      <td>67.736470</td>\n",
       "      <td>gender_and_sex</td>\n",
       "      <td>9.835038</td>\n",
       "    </tr>\n",
       "    <tr>\n",
       "      <th>1</th>\n",
       "      <td>masculine</td>\n",
       "      <td>67.508093</td>\n",
       "      <td>gender_and_sex</td>\n",
       "      <td>9.835038</td>\n",
       "    </tr>\n",
       "    <tr>\n",
       "      <th>2</th>\n",
       "      <td>female</td>\n",
       "      <td>25.012042</td>\n",
       "      <td>gender_and_sex</td>\n",
       "      <td>9.835038</td>\n",
       "    </tr>\n",
       "    <tr>\n",
       "      <th>3</th>\n",
       "      <td>male</td>\n",
       "      <td>21.334088</td>\n",
       "      <td>gender_and_sex</td>\n",
       "      <td>9.835038</td>\n",
       "    </tr>\n",
       "    <tr>\n",
       "      <th>4</th>\n",
       "      <td>gender neutral</td>\n",
       "      <td>1.547105</td>\n",
       "      <td>gender_and_sex</td>\n",
       "      <td>9.835038</td>\n",
       "    </tr>\n",
       "    <tr>\n",
       "      <th>0</th>\n",
       "      <td>religious</td>\n",
       "      <td>30.190044</td>\n",
       "      <td>religion</td>\n",
       "      <td>9.523035</td>\n",
       "    </tr>\n",
       "    <tr>\n",
       "      <th>1</th>\n",
       "      <td>Christian</td>\n",
       "      <td>29.368014</td>\n",
       "      <td>religion</td>\n",
       "      <td>9.523035</td>\n",
       "    </tr>\n",
       "    <tr>\n",
       "      <th>2</th>\n",
       "      <td>secular</td>\n",
       "      <td>15.998108</td>\n",
       "      <td>religion</td>\n",
       "      <td>9.523035</td>\n",
       "    </tr>\n",
       "    <tr>\n",
       "      <th>3</th>\n",
       "      <td>Catholic</td>\n",
       "      <td>13.821797</td>\n",
       "      <td>religion</td>\n",
       "      <td>9.523035</td>\n",
       "    </tr>\n",
       "    <tr>\n",
       "      <th>4</th>\n",
       "      <td>Methodist</td>\n",
       "      <td>11.967272</td>\n",
       "      <td>religion</td>\n",
       "      <td>9.523035</td>\n",
       "    </tr>\n",
       "    <tr>\n",
       "      <th>0</th>\n",
       "      <td>European</td>\n",
       "      <td>81.156423</td>\n",
       "      <td>race_ethnicity</td>\n",
       "      <td>49.956784</td>\n",
       "    </tr>\n",
       "    <tr>\n",
       "      <th>1</th>\n",
       "      <td>Latin</td>\n",
       "      <td>18.929189</td>\n",
       "      <td>race_ethnicity</td>\n",
       "      <td>49.956784</td>\n",
       "    </tr>\n",
       "    <tr>\n",
       "      <th>2</th>\n",
       "      <td>Asian</td>\n",
       "      <td>18.696626</td>\n",
       "      <td>race_ethnicity</td>\n",
       "      <td>49.956784</td>\n",
       "    </tr>\n",
       "    <tr>\n",
       "      <th>3</th>\n",
       "      <td>African</td>\n",
       "      <td>6.596383</td>\n",
       "      <td>race_ethnicity</td>\n",
       "      <td>49.956784</td>\n",
       "    </tr>\n",
       "    <tr>\n",
       "      <th>4</th>\n",
       "      <td>Latin American</td>\n",
       "      <td>5.953999</td>\n",
       "      <td>race_ethnicity</td>\n",
       "      <td>49.956784</td>\n",
       "    </tr>\n",
       "  </tbody>\n",
       "</table>\n",
       "</div>"
      ],
      "text/plain": [
       "       descriptor  percent_filings            category  \\\n",
       "0           LGBTQ        55.690686  sexual_orientation   \n",
       "1             gay        32.664437  sexual_orientation   \n",
       "2         lesbian        28.276072  sexual_orientation   \n",
       "3            LGBT        16.124455  sexual_orientation   \n",
       "4        bisexual        15.850816  sexual_orientation   \n",
       "0        American        91.576668         nationality   \n",
       "1         Chinese        11.278265         nationality   \n",
       "2         Mexican         6.506910         nationality   \n",
       "3          Indian         6.131639         nationality   \n",
       "4          Korean         3.269979         nationality   \n",
       "0        feminine        67.736470      gender_and_sex   \n",
       "1       masculine        67.508093      gender_and_sex   \n",
       "2          female        25.012042      gender_and_sex   \n",
       "3            male        21.334088      gender_and_sex   \n",
       "4  gender neutral         1.547105      gender_and_sex   \n",
       "0       religious        30.190044            religion   \n",
       "1       Christian        29.368014            religion   \n",
       "2         secular        15.998108            religion   \n",
       "3        Catholic        13.821797            religion   \n",
       "4       Methodist        11.967272            religion   \n",
       "0        European        81.156423      race_ethnicity   \n",
       "1           Latin        18.929189      race_ethnicity   \n",
       "2           Asian        18.696626      race_ethnicity   \n",
       "3         African         6.596383      race_ethnicity   \n",
       "4  Latin American         5.953999      race_ethnicity   \n",
       "\n",
       "   percent_filings_category  \n",
       "0                  0.326877  \n",
       "1                  0.326877  \n",
       "2                  0.326877  \n",
       "3                  0.326877  \n",
       "4                  0.326877  \n",
       "0                 79.291683  \n",
       "1                 79.291683  \n",
       "2                 79.291683  \n",
       "3                 79.291683  \n",
       "4                 79.291683  \n",
       "0                  9.835038  \n",
       "1                  9.835038  \n",
       "2                  9.835038  \n",
       "3                  9.835038  \n",
       "4                  9.835038  \n",
       "0                  9.523035  \n",
       "1                  9.523035  \n",
       "2                  9.523035  \n",
       "3                  9.523035  \n",
       "4                  9.523035  \n",
       "0                 49.956784  \n",
       "1                 49.956784  \n",
       "2                 49.956784  \n",
       "3                 49.956784  \n",
       "4                 49.956784  "
      ]
     },
     "execution_count": 245,
     "metadata": {},
     "output_type": "execute_result"
    }
   ],
   "source": [
    "beancounter_prevalence"
   ]
  },
  {
   "cell_type": "markdown",
   "id": "139ca260-f595-47aa-866b-9ec2a09ce82b",
   "metadata": {
    "jp-MarkdownHeadingCollapsed": true
   },
   "source": [
    "## Table 3b and Table 6"
   ]
  },
  {
   "cell_type": "markdown",
   "id": "3177c7a8-5379-47f4-9ac7-7fb39fcf88ab",
   "metadata": {},
   "source": [
    "### load all BeanCounter texthash & scores into dataframe"
   ]
  },
  {
   "cell_type": "code",
   "execution_count": 12,
   "id": "2c179199-9221-40dd-a2f4-5e641dbbfaa3",
   "metadata": {},
   "outputs": [],
   "source": [
    "scores_tbp = []\n",
    "for path, dirs, fns in os.walk(os.path.join(SUPPORTING_DATA_DIR, BC_PERSPECTIVE_SCORES)):\n",
    "    for fn in fns:\n",
    "        if os.path.splitext(fn)[-1] == '.pkl':\n",
    "            scores_tbp.append(os.path.join(path, fn))"
   ]
  },
  {
   "cell_type": "code",
   "execution_count": 13,
   "id": "c7e75967-f831-4d92-a388-3621d613450d",
   "metadata": {},
   "outputs": [
    {
     "data": {
      "application/vnd.jupyter.widget-view+json": {
       "model_id": "2bd1afb45f90434285edc0c2573b3238",
       "version_major": 2,
       "version_minor": 0
      },
      "text/plain": [
       "  0%|          | 0/817 [00:00<?, ?it/s]"
      ]
     },
     "metadata": {},
     "output_type": "display_data"
    }
   ],
   "source": [
    "list_score_dfs = []\n",
    "for path in tqdm(scores_tbp):\n",
    "    with open(path, 'rb') as out_file:\n",
    "        score_df = pd.DataFrame(pickle.load(out_file).items()).rename(columns={0: 'text_hash', 1: 'toxicity_score'})\n",
    "        list_score_dfs.append(score_df)\n",
    "\n",
    "all_scores_updated = pd.concat(list_score_dfs)"
   ]
  },
  {
   "cell_type": "markdown",
   "id": "c4ba291f-6013-43c9-a1f5-804eec2ed538",
   "metadata": {},
   "source": [
    "### Build BeanCounter sentences & descriptors into dataframe"
   ]
  },
  {
   "cell_type": "code",
   "execution_count": 14,
   "id": "4fa91f5d-e149-4d22-92b6-0643a4ca9934",
   "metadata": {},
   "outputs": [],
   "source": [
    "files_to_process = []\n",
    "for path, dirs, fns in os.walk(os.path.join(SUPPORTING_DATA_DIR, BC_SENTENCE_BATCH_DIR)):\n",
    "    for fn in fns:\n",
    "        if os.path.splitext(fn)[-1] == '.gz':\n",
    "            files_to_process.append(os.path.join(path, fn))"
   ]
  },
  {
   "cell_type": "code",
   "execution_count": 15,
   "id": "f6aa0eb8-074f-4432-b9d8-fe7d906d30f0",
   "metadata": {},
   "outputs": [
    {
     "data": {
      "application/vnd.jupyter.widget-view+json": {
       "model_id": "61c7a02745074a5cbc64c82fc3951270",
       "version_major": 2,
       "version_minor": 0
      },
      "text/plain": [
       "  0%|          | 0/817 [00:00<?, ?it/s]"
      ]
     },
     "metadata": {},
     "output_type": "display_data"
    }
   ],
   "source": [
    "list_dfs = []\n",
    "for path in tqdm(files_to_process):\n",
    "    with gzip.open(path, 'r') as out_file:\n",
    "        sents_df = pd.read_json(out_file, lines=True, orient='records')\n",
    "        list_dfs.append(sents_df)\n",
    "\n",
    "all_sents_df = pd.concat(list_dfs)"
   ]
  },
  {
   "cell_type": "code",
   "execution_count": 16,
   "id": "1f5441af-45df-41ba-b515-c46547638a67",
   "metadata": {},
   "outputs": [],
   "source": [
    "all_sents_df['desc_len'] = all_sents_df['descriptor'].str.len()\n",
    "# all_sents_df['text_hash'] = all_sents_df['sentence'].apply(lambda x : hashlib.md5(x.encode()).hexdigest())\n",
    "all_sents_df = all_sents_df.sort_values(by='desc_len', ascending = False).groupby('text_hash').head(1) # if a sentence contains multiple descriptors, only keep the row with the longest descriptor"
   ]
  },
  {
   "cell_type": "markdown",
   "id": "a25967ae-186a-461d-a0fc-4756fd87daf0",
   "metadata": {},
   "source": [
    "### Table 6 - Build BeanCounter average toxicity score of most prevalent descriptors "
   ]
  },
  {
   "cell_type": "code",
   "execution_count": 17,
   "id": "d3bddea5-d368-4539-8621-ed007472cc27",
   "metadata": {},
   "outputs": [],
   "source": [
    "sent2score = all_scores_updated.merge(\n",
    "    all_sents_df,\n",
    "    on = 'text_hash',\n",
    "    how = 'left'\n",
    ")"
   ]
  },
  {
   "cell_type": "code",
   "execution_count": 19,
   "id": "c77e53b7-da3e-4537-bcda-d4872a05b23d",
   "metadata": {},
   "outputs": [],
   "source": [
    "sent2score = sent2score.dropna()"
   ]
  },
  {
   "cell_type": "code",
   "execution_count": 84,
   "id": "0dcc3834-1e79-4d6c-8b0d-70993b26ae95",
   "metadata": {},
   "outputs": [
    {
     "name": "stderr",
     "output_type": "stream",
     "text": [
      "/tmp/ipykernel_3044916/1566481369.py:4: SettingWithCopyWarning: \n",
      "A value is trying to be set on a copy of a slice from a DataFrame.\n",
      "Try using .loc[row_indexer,col_indexer] = value instead\n",
      "\n",
      "See the caveats in the documentation: https://pandas.pydata.org/pandas-docs/stable/user_guide/indexing.html#returning-a-view-versus-a-copy\n",
      "  sent2score['original_descriptor'] = sent2score['descriptor'].apply(lambda x : variation2original[x])\n"
     ]
    }
   ],
   "source": [
    "# limit analysis to years 1996-2023 \n",
    "sent2score['year'] = sent2score['date'].apply(lambda x:int(str(x).split('-')[0]))\n",
    "sent2score = sent2score.loc[(sent2score['year'] >= 1996) & (sent2score['year'] <= 2023)]\n",
    "sent2score['original_descriptor'] = sent2score['descriptor'].apply(lambda x : variation2original[x])"
   ]
  },
  {
   "cell_type": "code",
   "execution_count": 25,
   "id": "f1770855-b45d-48da-9c81-c5d5e29d87cd",
   "metadata": {},
   "outputs": [
    {
     "data": {
      "text/plain": [
       "(8160790, 13)"
      ]
     },
     "execution_count": 25,
     "metadata": {},
     "output_type": "execute_result"
    }
   ],
   "source": [
    "sent2score.shape"
   ]
  },
  {
   "cell_type": "code",
   "execution_count": 85,
   "id": "8e73550a-5a56-42da-9e93-b4ad64c0b2e2",
   "metadata": {},
   "outputs": [],
   "source": [
    "desc2count_sample = pd.read_csv(os.path.join(SUPPORTING_DATA_DIR, 'beancounter_descriptor_count.csv'))  "
   ]
  },
  {
   "cell_type": "code",
   "execution_count": 86,
   "id": "2264c77a-613c-4dc1-9836-b08991e4c6f8",
   "metadata": {},
   "outputs": [],
   "source": [
    "desc2toxicity_edgar = pd.DataFrame(sent2score.groupby('original_descriptor')['toxicity_score'].mean()).reset_index().rename(columns = {'toxicity_score':'avg_toxicity_score'})\n",
    "desc2toxicity_edgar['broad_category'] = desc2toxicity_edgar['original_descriptor'].apply(lambda x : desc2category[x][0])\n",
    "orig_desc2count = pd.DataFrame(desc2count_sample.groupby('original_descriptor')['num_unique_sentences'].sum()).reset_index()"
   ]
  },
  {
   "cell_type": "code",
   "execution_count": 87,
   "id": "df6e064c-7e18-4da0-8c80-53f56196f513",
   "metadata": {},
   "outputs": [],
   "source": [
    "desc2tox2prevalence_edgar= desc2toxicity_edgar.merge(\n",
    "    orig_desc2count,\n",
    "    on = 'original_descriptor',\n",
    "    how = 'left'\n",
    ")"
   ]
  },
  {
   "cell_type": "code",
   "execution_count": 88,
   "id": "4f4a901f-ba1f-418b-985a-c851f25b3050",
   "metadata": {},
   "outputs": [],
   "source": [
    "top5prevalent_edgar = pd.DataFrame(desc2tox2prevalence_edgar.sort_values(['broad_category', 'num_unique_sentences'], ascending = False).groupby('broad_category').head(5))"
   ]
  },
  {
   "cell_type": "code",
   "execution_count": 101,
   "id": "6a8dbe91-bf4c-4670-a314-f5ef041426bd",
   "metadata": {},
   "outputs": [],
   "source": [
    "top6prevalent_edgar = pd.DataFrame(desc2tox2prevalence_edgar.sort_values(['broad_category', 'num_unique_sentences'], ascending = False).groupby('broad_category').head(6))"
   ]
  },
  {
   "cell_type": "code",
   "execution_count": 102,
   "id": "6c09802f-79d5-4469-843d-a46d2a831213",
   "metadata": {},
   "outputs": [
    {
     "data": {
      "text/html": [
       "<div>\n",
       "<style scoped>\n",
       "    .dataframe tbody tr th:only-of-type {\n",
       "        vertical-align: middle;\n",
       "    }\n",
       "\n",
       "    .dataframe tbody tr th {\n",
       "        vertical-align: top;\n",
       "    }\n",
       "\n",
       "    .dataframe thead th {\n",
       "        text-align: right;\n",
       "    }\n",
       "</style>\n",
       "<table border=\"1\" class=\"dataframe\">\n",
       "  <thead>\n",
       "    <tr style=\"text-align: right;\">\n",
       "      <th></th>\n",
       "      <th>original_descriptor</th>\n",
       "      <th>avg_toxicity_score</th>\n",
       "      <th>broad_category</th>\n",
       "      <th>num_unique_sentences</th>\n",
       "    </tr>\n",
       "  </thead>\n",
       "  <tbody>\n",
       "    <tr>\n",
       "      <th>50</th>\n",
       "      <td>LGBTQ</td>\n",
       "      <td>0.005175</td>\n",
       "      <td>sexual_orientation</td>\n",
       "      <td>4475</td>\n",
       "    </tr>\n",
       "    <tr>\n",
       "      <th>49</th>\n",
       "      <td>LGBT</td>\n",
       "      <td>0.005870</td>\n",
       "      <td>sexual_orientation</td>\n",
       "      <td>2148</td>\n",
       "    </tr>\n",
       "    <tr>\n",
       "      <th>96</th>\n",
       "      <td>gay</td>\n",
       "      <td>0.032014</td>\n",
       "      <td>sexual_orientation</td>\n",
       "      <td>1313</td>\n",
       "    </tr>\n",
       "    <tr>\n",
       "      <th>105</th>\n",
       "      <td>lesbian</td>\n",
       "      <td>0.011127</td>\n",
       "      <td>sexual_orientation</td>\n",
       "      <td>499</td>\n",
       "    </tr>\n",
       "    <tr>\n",
       "      <th>102</th>\n",
       "      <td>heterosexual</td>\n",
       "      <td>0.054346</td>\n",
       "      <td>sexual_orientation</td>\n",
       "      <td>93</td>\n",
       "    </tr>\n",
       "    <tr>\n",
       "      <th>103</th>\n",
       "      <td>homosexual</td>\n",
       "      <td>0.072510</td>\n",
       "      <td>sexual_orientation</td>\n",
       "      <td>84</td>\n",
       "    </tr>\n",
       "    <tr>\n",
       "      <th>23</th>\n",
       "      <td>Christian</td>\n",
       "      <td>0.009583</td>\n",
       "      <td>religion</td>\n",
       "      <td>70501</td>\n",
       "    </tr>\n",
       "    <tr>\n",
       "      <th>114</th>\n",
       "      <td>secular</td>\n",
       "      <td>0.010277</td>\n",
       "      <td>religion</td>\n",
       "      <td>31510</td>\n",
       "    </tr>\n",
       "    <tr>\n",
       "      <th>18</th>\n",
       "      <td>Catholic</td>\n",
       "      <td>0.007505</td>\n",
       "      <td>religion</td>\n",
       "      <td>30771</td>\n",
       "    </tr>\n",
       "    <tr>\n",
       "      <th>113</th>\n",
       "      <td>religious</td>\n",
       "      <td>0.020732</td>\n",
       "      <td>religion</td>\n",
       "      <td>28218</td>\n",
       "    </tr>\n",
       "    <tr>\n",
       "      <th>58</th>\n",
       "      <td>Methodist</td>\n",
       "      <td>0.005317</td>\n",
       "      <td>religion</td>\n",
       "      <td>15379</td>\n",
       "    </tr>\n",
       "    <tr>\n",
       "      <th>57</th>\n",
       "      <td>Lutheran</td>\n",
       "      <td>0.009067</td>\n",
       "      <td>religion</td>\n",
       "      <td>12392</td>\n",
       "    </tr>\n",
       "    <tr>\n",
       "      <th>31</th>\n",
       "      <td>European</td>\n",
       "      <td>0.010782</td>\n",
       "      <td>race_ethnicity</td>\n",
       "      <td>1682046</td>\n",
       "    </tr>\n",
       "    <tr>\n",
       "      <th>51</th>\n",
       "      <td>Latin</td>\n",
       "      <td>0.007501</td>\n",
       "      <td>race_ethnicity</td>\n",
       "      <td>358251</td>\n",
       "    </tr>\n",
       "    <tr>\n",
       "      <th>13</th>\n",
       "      <td>Asian</td>\n",
       "      <td>0.012151</td>\n",
       "      <td>race_ethnicity</td>\n",
       "      <td>200495</td>\n",
       "    </tr>\n",
       "    <tr>\n",
       "      <th>4</th>\n",
       "      <td>African</td>\n",
       "      <td>0.012131</td>\n",
       "      <td>race_ethnicity</td>\n",
       "      <td>124323</td>\n",
       "    </tr>\n",
       "    <tr>\n",
       "      <th>11</th>\n",
       "      <td>Arab</td>\n",
       "      <td>0.009941</td>\n",
       "      <td>race_ethnicity</td>\n",
       "      <td>42580</td>\n",
       "    </tr>\n",
       "    <tr>\n",
       "      <th>52</th>\n",
       "      <td>Latin American</td>\n",
       "      <td>0.008383</td>\n",
       "      <td>race_ethnicity</td>\n",
       "      <td>42549</td>\n",
       "    </tr>\n",
       "    <tr>\n",
       "      <th>7</th>\n",
       "      <td>American</td>\n",
       "      <td>0.007574</td>\n",
       "      <td>nationality</td>\n",
       "      <td>3990337</td>\n",
       "    </tr>\n",
       "    <tr>\n",
       "      <th>21</th>\n",
       "      <td>Chinese</td>\n",
       "      <td>0.009901</td>\n",
       "      <td>nationality</td>\n",
       "      <td>474585</td>\n",
       "    </tr>\n",
       "    <tr>\n",
       "      <th>59</th>\n",
       "      <td>Mexican</td>\n",
       "      <td>0.011106</td>\n",
       "      <td>nationality</td>\n",
       "      <td>373345</td>\n",
       "    </tr>\n",
       "    <tr>\n",
       "      <th>41</th>\n",
       "      <td>Indian</td>\n",
       "      <td>0.007336</td>\n",
       "      <td>nationality</td>\n",
       "      <td>210819</td>\n",
       "    </tr>\n",
       "    <tr>\n",
       "      <th>47</th>\n",
       "      <td>Korean</td>\n",
       "      <td>0.008325</td>\n",
       "      <td>nationality</td>\n",
       "      <td>125105</td>\n",
       "    </tr>\n",
       "    <tr>\n",
       "      <th>27</th>\n",
       "      <td>Dominican</td>\n",
       "      <td>0.009053</td>\n",
       "      <td>nationality</td>\n",
       "      <td>37137</td>\n",
       "    </tr>\n",
       "    <tr>\n",
       "      <th>109</th>\n",
       "      <td>masculine</td>\n",
       "      <td>0.026259</td>\n",
       "      <td>gender_and_sex</td>\n",
       "      <td>55921</td>\n",
       "    </tr>\n",
       "    <tr>\n",
       "      <th>92</th>\n",
       "      <td>female</td>\n",
       "      <td>0.021492</td>\n",
       "      <td>gender_and_sex</td>\n",
       "      <td>46055</td>\n",
       "    </tr>\n",
       "    <tr>\n",
       "      <th>106</th>\n",
       "      <td>male</td>\n",
       "      <td>0.019505</td>\n",
       "      <td>gender_and_sex</td>\n",
       "      <td>42691</td>\n",
       "    </tr>\n",
       "    <tr>\n",
       "      <th>94</th>\n",
       "      <td>feminine</td>\n",
       "      <td>0.029548</td>\n",
       "      <td>gender_and_sex</td>\n",
       "      <td>6651</td>\n",
       "    </tr>\n",
       "    <tr>\n",
       "      <th>97</th>\n",
       "      <td>gender neutral</td>\n",
       "      <td>0.018374</td>\n",
       "      <td>gender_and_sex</td>\n",
       "      <td>1039</td>\n",
       "    </tr>\n",
       "    <tr>\n",
       "      <th>118</th>\n",
       "      <td>transgender</td>\n",
       "      <td>0.015208</td>\n",
       "      <td>gender_and_sex</td>\n",
       "      <td>320</td>\n",
       "    </tr>\n",
       "  </tbody>\n",
       "</table>\n",
       "</div>"
      ],
      "text/plain": [
       "    original_descriptor  avg_toxicity_score      broad_category  \\\n",
       "50                LGBTQ            0.005175  sexual_orientation   \n",
       "49                 LGBT            0.005870  sexual_orientation   \n",
       "96                  gay            0.032014  sexual_orientation   \n",
       "105             lesbian            0.011127  sexual_orientation   \n",
       "102        heterosexual            0.054346  sexual_orientation   \n",
       "103          homosexual            0.072510  sexual_orientation   \n",
       "23            Christian            0.009583            religion   \n",
       "114             secular            0.010277            religion   \n",
       "18             Catholic            0.007505            religion   \n",
       "113           religious            0.020732            religion   \n",
       "58            Methodist            0.005317            religion   \n",
       "57             Lutheran            0.009067            religion   \n",
       "31             European            0.010782      race_ethnicity   \n",
       "51                Latin            0.007501      race_ethnicity   \n",
       "13                Asian            0.012151      race_ethnicity   \n",
       "4               African            0.012131      race_ethnicity   \n",
       "11                 Arab            0.009941      race_ethnicity   \n",
       "52       Latin American            0.008383      race_ethnicity   \n",
       "7              American            0.007574         nationality   \n",
       "21              Chinese            0.009901         nationality   \n",
       "59              Mexican            0.011106         nationality   \n",
       "41               Indian            0.007336         nationality   \n",
       "47               Korean            0.008325         nationality   \n",
       "27            Dominican            0.009053         nationality   \n",
       "109           masculine            0.026259      gender_and_sex   \n",
       "92               female            0.021492      gender_and_sex   \n",
       "106                male            0.019505      gender_and_sex   \n",
       "94             feminine            0.029548      gender_and_sex   \n",
       "97       gender neutral            0.018374      gender_and_sex   \n",
       "118         transgender            0.015208      gender_and_sex   \n",
       "\n",
       "     num_unique_sentences  \n",
       "50                   4475  \n",
       "49                   2148  \n",
       "96                   1313  \n",
       "105                   499  \n",
       "102                    93  \n",
       "103                    84  \n",
       "23                  70501  \n",
       "114                 31510  \n",
       "18                  30771  \n",
       "113                 28218  \n",
       "58                  15379  \n",
       "57                  12392  \n",
       "31                1682046  \n",
       "51                 358251  \n",
       "13                 200495  \n",
       "4                  124323  \n",
       "11                  42580  \n",
       "52                  42549  \n",
       "7                 3990337  \n",
       "21                 474585  \n",
       "59                 373345  \n",
       "41                 210819  \n",
       "47                 125105  \n",
       "27                  37137  \n",
       "109                 55921  \n",
       "92                  46055  \n",
       "106                 42691  \n",
       "94                   6651  \n",
       "97                   1039  \n",
       "118                   320  "
      ]
     },
     "execution_count": 102,
     "metadata": {},
     "output_type": "execute_result"
    }
   ],
   "source": [
    "top6prevalent_edgar"
   ]
  },
  {
   "cell_type": "markdown",
   "id": "310d1481-3a0e-4d8a-9dfc-8b99f79f8870",
   "metadata": {},
   "source": [
    "### Build C4 sentence and score dataframe"
   ]
  },
  {
   "cell_type": "code",
   "execution_count": 93,
   "id": "b72d2687-31b4-4155-9b58-96d6919278fc",
   "metadata": {},
   "outputs": [],
   "source": [
    "fns_tbp = []\n",
    "for path, dirs, fns in os.walk(os.path.join(SUPPORTING_DATA_DIR, C4_SENTENCE_BATCH_DIR)):\n",
    "    for fn in fns:\n",
    "        if os.path.splitext(fn)[-1] == '.gz':\n",
    "            fns_tbp.append(os.path.join(path, fn))"
   ]
  },
  {
   "cell_type": "code",
   "execution_count": 59,
   "id": "18ebb5f2-2d55-4329-a549-1f425c72c640",
   "metadata": {},
   "outputs": [
    {
     "data": {
      "application/vnd.jupyter.widget-view+json": {
       "model_id": "fc652cdece79425297eaeefa6d05261b",
       "version_major": 2,
       "version_minor": 0
      },
      "text/plain": [
       "  0%|          | 0/817 [00:00<?, ?it/s]"
      ]
     },
     "metadata": {},
     "output_type": "display_data"
    }
   ],
   "source": [
    "list_dfs = []\n",
    "for path in tqdm(fns_tbp):\n",
    "    with gzip.open(path, 'r') as out_file:\n",
    "        sents_df = pd.read_json(out_file, lines=True, orient='records')\n",
    "        list_dfs.append(sents_df)\n",
    "\n",
    "c4_sents_df = pd.concat(list_dfs)"
   ]
  },
  {
   "cell_type": "code",
   "execution_count": 60,
   "id": "8e04205a-d02a-4c68-b950-380d31e77099",
   "metadata": {},
   "outputs": [],
   "source": [
    "scores_tbp = []\n",
    "for path, dirs, fns in os.walk(os.path.join(SUPPORTING_DATA_DIR, C4_PERSPECTIVE_SCORES)):\n",
    "    for fn in fns:\n",
    "        if os.path.splitext(fn)[-1] == '.pkl':\n",
    "            scores_tbp.append(os.path.join(path, fn))"
   ]
  },
  {
   "cell_type": "code",
   "execution_count": 61,
   "id": "b006c5fd-4f96-4c39-85eb-f736056e6790",
   "metadata": {},
   "outputs": [
    {
     "data": {
      "application/vnd.jupyter.widget-view+json": {
       "model_id": "d933e083465849588394ea6443bb98c5",
       "version_major": 2,
       "version_minor": 0
      },
      "text/plain": [
       "  0%|          | 0/817 [00:00<?, ?it/s]"
      ]
     },
     "metadata": {},
     "output_type": "display_data"
    }
   ],
   "source": [
    "list_score_dfs = []\n",
    "for path in tqdm(scores_tbp):\n",
    "    with open(path, 'rb') as out_file:\n",
    "        score_df = pd.DataFrame(pickle.load(out_file).items()).rename(columns={0: 'text_hash', 1: 'toxicity_score'})\n",
    "        list_score_dfs.append(score_df)\n",
    "\n",
    "c4_scores = pd.concat(list_score_dfs)"
   ]
  },
  {
   "cell_type": "code",
   "execution_count": 62,
   "id": "c3d29896-1d75-4500-a9e3-7193b6dfc7bd",
   "metadata": {},
   "outputs": [],
   "source": [
    "c4_sents_df['desc_len'] = c4_sents_df['descriptor'].str.len()\n",
    "c4_sents_updated = c4_sents_df.sort_values(by='desc_len', ascending = False).groupby('text_hash').head(1)"
   ]
  },
  {
   "cell_type": "code",
   "execution_count": 64,
   "id": "ba666578-09ba-42a4-b3b3-427a25cba868",
   "metadata": {},
   "outputs": [],
   "source": [
    "c4_sent2score = c4_scores.merge(\n",
    "    c4_sents_updated,\n",
    "    on = 'text_hash',\n",
    "    how = 'left'\n",
    ")"
   ]
  },
  {
   "cell_type": "code",
   "execution_count": 65,
   "id": "dbf3d0a9-5001-4355-ba7d-72fedb4ea4e1",
   "metadata": {},
   "outputs": [],
   "source": [
    "c4_longest_desc = c4_sent2score.sort_values(by='desc_len', ascending = False).groupby('text_hash').head(1)\n",
    "c4_longest_desc['original_descriptor'] = c4_longest_desc['descriptor'].apply(lambda x : variation2original[x] if x in variation2original.keys() else x)"
   ]
  },
  {
   "cell_type": "markdown",
   "id": "1a2804d6-5b34-43dd-aca1-c33f159a4067",
   "metadata": {},
   "source": [
    "### Table 6 - Build C4 top 5 prevalent in each demographic axis dataframe"
   ]
  },
  {
   "cell_type": "code",
   "execution_count": 95,
   "id": "c536c9d2-362f-4438-937c-d29aae894572",
   "metadata": {},
   "outputs": [],
   "source": [
    "desc2count_c4 = pd.DataFrame(c4_longest_desc.groupby('descriptor')['text_hash'].count())\n",
    "desc2count_c4 = desc2count_c4.reset_index().rename(columns = {'text_hash':'num_unique_sentences'})\n",
    "desc2count_c4 = desc2count_c4.sort_values(by='num_unique_sentences', ascending = False)\n",
    "desc2count_c4['original_descriptor'] = desc2count_c4['descriptor'].apply(lambda x : variation2original[x] if x in variation2original.keys() else x)"
   ]
  },
  {
   "cell_type": "code",
   "execution_count": 96,
   "id": "92519ddd-a914-451a-9945-9b1e400fe36b",
   "metadata": {},
   "outputs": [],
   "source": [
    "desc2toxicity_c4 = pd.DataFrame(c4_longest_desc.groupby('original_descriptor')['toxicity_score'].mean()).reset_index().rename(columns = {'toxicity_score':'avg_toxicity_score'})"
   ]
  },
  {
   "cell_type": "code",
   "execution_count": 97,
   "id": "875bd65a-6651-41eb-8194-89f2a1ca0ff1",
   "metadata": {},
   "outputs": [],
   "source": [
    "orig_desc2count_c4 = pd.DataFrame(desc2count_c4.groupby('original_descriptor')['num_unique_sentences'].sum()).reset_index()\n",
    "orig_desc2count_c4['broad_category'] = orig_desc2count_c4['original_descriptor'].apply(lambda x : desc2category[x][0])"
   ]
  },
  {
   "cell_type": "code",
   "execution_count": 98,
   "id": "4212b716-9ed0-4c65-ba13-3c7edec822dd",
   "metadata": {},
   "outputs": [],
   "source": [
    "desc2tox2prevalence_c4= desc2toxicity_c4.merge(\n",
    "    orig_desc2count_c4,\n",
    "    on = 'original_descriptor',\n",
    "    how = 'left'\n",
    ")"
   ]
  },
  {
   "cell_type": "code",
   "execution_count": 99,
   "id": "6767b5f6-b5bd-4fc7-a03e-d64933c9b0eb",
   "metadata": {},
   "outputs": [],
   "source": [
    "top5prevalent_c4 = pd.DataFrame(desc2tox2prevalence_c4.sort_values(['broad_category', 'num_unique_sentences'], ascending = False).groupby('broad_category').head(5))"
   ]
  },
  {
   "cell_type": "code",
   "execution_count": 55,
   "id": "e9c93b6a-d838-448d-8b9f-c25342971d43",
   "metadata": {},
   "outputs": [
    {
     "data": {
      "text/html": [
       "<div>\n",
       "<style scoped>\n",
       "    .dataframe tbody tr th:only-of-type {\n",
       "        vertical-align: middle;\n",
       "    }\n",
       "\n",
       "    .dataframe tbody tr th {\n",
       "        vertical-align: top;\n",
       "    }\n",
       "\n",
       "    .dataframe thead th {\n",
       "        text-align: right;\n",
       "    }\n",
       "</style>\n",
       "<table border=\"1\" class=\"dataframe\">\n",
       "  <thead>\n",
       "    <tr style=\"text-align: right;\">\n",
       "      <th></th>\n",
       "      <th>original_descriptor</th>\n",
       "      <th>avg_toxicity_score</th>\n",
       "      <th>num_unique_sentences</th>\n",
       "      <th>broad_category</th>\n",
       "    </tr>\n",
       "  </thead>\n",
       "  <tbody>\n",
       "    <tr>\n",
       "      <th>50</th>\n",
       "      <td>LGBTQ</td>\n",
       "      <td>0.036130</td>\n",
       "      <td>4475</td>\n",
       "      <td>sexual_orientation</td>\n",
       "    </tr>\n",
       "    <tr>\n",
       "      <th>49</th>\n",
       "      <td>LGBT</td>\n",
       "      <td>0.038687</td>\n",
       "      <td>2148</td>\n",
       "      <td>sexual_orientation</td>\n",
       "    </tr>\n",
       "    <tr>\n",
       "      <th>96</th>\n",
       "      <td>gay</td>\n",
       "      <td>0.093577</td>\n",
       "      <td>1313</td>\n",
       "      <td>sexual_orientation</td>\n",
       "    </tr>\n",
       "    <tr>\n",
       "      <th>105</th>\n",
       "      <td>lesbian</td>\n",
       "      <td>0.108470</td>\n",
       "      <td>499</td>\n",
       "      <td>sexual_orientation</td>\n",
       "    </tr>\n",
       "    <tr>\n",
       "      <th>102</th>\n",
       "      <td>heterosexual</td>\n",
       "      <td>0.138606</td>\n",
       "      <td>93</td>\n",
       "      <td>sexual_orientation</td>\n",
       "    </tr>\n",
       "    <tr>\n",
       "      <th>23</th>\n",
       "      <td>Christian</td>\n",
       "      <td>0.076528</td>\n",
       "      <td>70500</td>\n",
       "      <td>religion</td>\n",
       "    </tr>\n",
       "    <tr>\n",
       "      <th>114</th>\n",
       "      <td>secular</td>\n",
       "      <td>0.057951</td>\n",
       "      <td>31510</td>\n",
       "      <td>religion</td>\n",
       "    </tr>\n",
       "    <tr>\n",
       "      <th>18</th>\n",
       "      <td>Catholic</td>\n",
       "      <td>0.052459</td>\n",
       "      <td>30767</td>\n",
       "      <td>religion</td>\n",
       "    </tr>\n",
       "    <tr>\n",
       "      <th>113</th>\n",
       "      <td>religious</td>\n",
       "      <td>0.061934</td>\n",
       "      <td>28218</td>\n",
       "      <td>religion</td>\n",
       "    </tr>\n",
       "    <tr>\n",
       "      <th>58</th>\n",
       "      <td>Methodist</td>\n",
       "      <td>0.020943</td>\n",
       "      <td>15379</td>\n",
       "      <td>religion</td>\n",
       "    </tr>\n",
       "    <tr>\n",
       "      <th>31</th>\n",
       "      <td>European</td>\n",
       "      <td>0.026369</td>\n",
       "      <td>1682046</td>\n",
       "      <td>race_ethnicity</td>\n",
       "    </tr>\n",
       "    <tr>\n",
       "      <th>51</th>\n",
       "      <td>Latin</td>\n",
       "      <td>0.032272</td>\n",
       "      <td>358251</td>\n",
       "      <td>race_ethnicity</td>\n",
       "    </tr>\n",
       "    <tr>\n",
       "      <th>13</th>\n",
       "      <td>Asian</td>\n",
       "      <td>0.052897</td>\n",
       "      <td>200495</td>\n",
       "      <td>race_ethnicity</td>\n",
       "    </tr>\n",
       "    <tr>\n",
       "      <th>4</th>\n",
       "      <td>African</td>\n",
       "      <td>0.047833</td>\n",
       "      <td>124323</td>\n",
       "      <td>race_ethnicity</td>\n",
       "    </tr>\n",
       "    <tr>\n",
       "      <th>11</th>\n",
       "      <td>Arab</td>\n",
       "      <td>0.050105</td>\n",
       "      <td>42580</td>\n",
       "      <td>race_ethnicity</td>\n",
       "    </tr>\n",
       "    <tr>\n",
       "      <th>7</th>\n",
       "      <td>American</td>\n",
       "      <td>0.038610</td>\n",
       "      <td>3990333</td>\n",
       "      <td>nationality</td>\n",
       "    </tr>\n",
       "    <tr>\n",
       "      <th>21</th>\n",
       "      <td>Chinese</td>\n",
       "      <td>0.035783</td>\n",
       "      <td>474585</td>\n",
       "      <td>nationality</td>\n",
       "    </tr>\n",
       "    <tr>\n",
       "      <th>59</th>\n",
       "      <td>Mexican</td>\n",
       "      <td>0.059238</td>\n",
       "      <td>373344</td>\n",
       "      <td>nationality</td>\n",
       "    </tr>\n",
       "    <tr>\n",
       "      <th>41</th>\n",
       "      <td>Indian</td>\n",
       "      <td>0.030447</td>\n",
       "      <td>210818</td>\n",
       "      <td>nationality</td>\n",
       "    </tr>\n",
       "    <tr>\n",
       "      <th>47</th>\n",
       "      <td>Korean</td>\n",
       "      <td>0.037852</td>\n",
       "      <td>125105</td>\n",
       "      <td>nationality</td>\n",
       "    </tr>\n",
       "    <tr>\n",
       "      <th>109</th>\n",
       "      <td>masculine</td>\n",
       "      <td>0.072640</td>\n",
       "      <td>55921</td>\n",
       "      <td>gender_and_sex</td>\n",
       "    </tr>\n",
       "    <tr>\n",
       "      <th>92</th>\n",
       "      <td>female</td>\n",
       "      <td>0.066548</td>\n",
       "      <td>46055</td>\n",
       "      <td>gender_and_sex</td>\n",
       "    </tr>\n",
       "    <tr>\n",
       "      <th>106</th>\n",
       "      <td>male</td>\n",
       "      <td>0.071202</td>\n",
       "      <td>42691</td>\n",
       "      <td>gender_and_sex</td>\n",
       "    </tr>\n",
       "    <tr>\n",
       "      <th>94</th>\n",
       "      <td>feminine</td>\n",
       "      <td>0.088093</td>\n",
       "      <td>6651</td>\n",
       "      <td>gender_and_sex</td>\n",
       "    </tr>\n",
       "    <tr>\n",
       "      <th>97</th>\n",
       "      <td>gender neutral</td>\n",
       "      <td>0.054053</td>\n",
       "      <td>1039</td>\n",
       "      <td>gender_and_sex</td>\n",
       "    </tr>\n",
       "  </tbody>\n",
       "</table>\n",
       "</div>"
      ],
      "text/plain": [
       "    original_descriptor  avg_toxicity_score  num_unique_sentences  \\\n",
       "50                LGBTQ            0.036130                  4475   \n",
       "49                 LGBT            0.038687                  2148   \n",
       "96                  gay            0.093577                  1313   \n",
       "105             lesbian            0.108470                   499   \n",
       "102        heterosexual            0.138606                    93   \n",
       "23            Christian            0.076528                 70500   \n",
       "114             secular            0.057951                 31510   \n",
       "18             Catholic            0.052459                 30767   \n",
       "113           religious            0.061934                 28218   \n",
       "58            Methodist            0.020943                 15379   \n",
       "31             European            0.026369               1682046   \n",
       "51                Latin            0.032272                358251   \n",
       "13                Asian            0.052897                200495   \n",
       "4               African            0.047833                124323   \n",
       "11                 Arab            0.050105                 42580   \n",
       "7              American            0.038610               3990333   \n",
       "21              Chinese            0.035783                474585   \n",
       "59              Mexican            0.059238                373344   \n",
       "41               Indian            0.030447                210818   \n",
       "47               Korean            0.037852                125105   \n",
       "109           masculine            0.072640                 55921   \n",
       "92               female            0.066548                 46055   \n",
       "106                male            0.071202                 42691   \n",
       "94             feminine            0.088093                  6651   \n",
       "97       gender neutral            0.054053                  1039   \n",
       "\n",
       "         broad_category  \n",
       "50   sexual_orientation  \n",
       "49   sexual_orientation  \n",
       "96   sexual_orientation  \n",
       "105  sexual_orientation  \n",
       "102  sexual_orientation  \n",
       "23             religion  \n",
       "114            religion  \n",
       "18             religion  \n",
       "113            religion  \n",
       "58             religion  \n",
       "31       race_ethnicity  \n",
       "51       race_ethnicity  \n",
       "13       race_ethnicity  \n",
       "4        race_ethnicity  \n",
       "11       race_ethnicity  \n",
       "7           nationality  \n",
       "21          nationality  \n",
       "59          nationality  \n",
       "41          nationality  \n",
       "47          nationality  \n",
       "109      gender_and_sex  \n",
       "92       gender_and_sex  \n",
       "106      gender_and_sex  \n",
       "94       gender_and_sex  \n",
       "97       gender_and_sex  "
      ]
     },
     "execution_count": 55,
     "metadata": {},
     "output_type": "execute_result"
    }
   ],
   "source": [
    "top5prevalent_c4"
   ]
  },
  {
   "cell_type": "markdown",
   "id": "5fd42a70-6b1e-4605-aaaa-08b23d366215",
   "metadata": {},
   "source": [
    "### Table 3b & Table 7: Percent reduction in toxicity of most prevalent descriptors"
   ]
  },
  {
   "cell_type": "code",
   "execution_count": 56,
   "id": "9b658527-a871-4e74-acb5-010b352b91c1",
   "metadata": {},
   "outputs": [],
   "source": [
    "top5prevalent_c4 = top5prevalent_c4.rename(columns = {'avg_toxicity_score': 'c4_avg_toxicity_score'})\n",
    "top5prevalent_edgar = top5prevalent_edgar.rename(columns = {'avg_toxicity_score': 'bc_avg_toxicity_score'})"
   ]
  },
  {
   "cell_type": "code",
   "execution_count": 57,
   "id": "cb304122-d941-41b3-aee8-28ec82d21f2a",
   "metadata": {},
   "outputs": [],
   "source": [
    "c4_edgar_top5prev = top5prevalent_c4.merge(\n",
    "    top5prevalent_edgar[['original_descriptor', 'bc_avg_toxicity_score']],\n",
    "    on = 'original_descriptor',\n",
    "    how = 'left'\n",
    ")"
   ]
  },
  {
   "cell_type": "code",
   "execution_count": 58,
   "id": "27b3c6e4-e1c8-4a43-8a1c-31f55f422387",
   "metadata": {},
   "outputs": [],
   "source": [
    "c4_edgar_top5prev['percent_reduction'] = (c4_edgar_top5prev['bc_avg_toxicity_score'] / c4_edgar_top5prev['c4_avg_toxicity_score'])-1"
   ]
  },
  {
   "cell_type": "code",
   "execution_count": 59,
   "id": "1bfb2ddb-6ca9-4f93-8a18-34835c8e3c80",
   "metadata": {},
   "outputs": [
    {
     "data": {
      "text/html": [
       "<div>\n",
       "<style scoped>\n",
       "    .dataframe tbody tr th:only-of-type {\n",
       "        vertical-align: middle;\n",
       "    }\n",
       "\n",
       "    .dataframe tbody tr th {\n",
       "        vertical-align: top;\n",
       "    }\n",
       "\n",
       "    .dataframe thead th {\n",
       "        text-align: right;\n",
       "    }\n",
       "</style>\n",
       "<table border=\"1\" class=\"dataframe\">\n",
       "  <thead>\n",
       "    <tr style=\"text-align: right;\">\n",
       "      <th></th>\n",
       "      <th>original_descriptor</th>\n",
       "      <th>c4_avg_toxicity_score</th>\n",
       "      <th>num_unique_sentences</th>\n",
       "      <th>broad_category</th>\n",
       "      <th>bc_avg_toxicity_score</th>\n",
       "      <th>percent_reduction</th>\n",
       "    </tr>\n",
       "  </thead>\n",
       "  <tbody>\n",
       "    <tr>\n",
       "      <th>0</th>\n",
       "      <td>LGBTQ</td>\n",
       "      <td>0.036130</td>\n",
       "      <td>4475</td>\n",
       "      <td>sexual_orientation</td>\n",
       "      <td>0.005175</td>\n",
       "      <td>-0.856772</td>\n",
       "    </tr>\n",
       "    <tr>\n",
       "      <th>1</th>\n",
       "      <td>LGBT</td>\n",
       "      <td>0.038687</td>\n",
       "      <td>2148</td>\n",
       "      <td>sexual_orientation</td>\n",
       "      <td>0.005870</td>\n",
       "      <td>-0.848268</td>\n",
       "    </tr>\n",
       "    <tr>\n",
       "      <th>2</th>\n",
       "      <td>gay</td>\n",
       "      <td>0.093577</td>\n",
       "      <td>1313</td>\n",
       "      <td>sexual_orientation</td>\n",
       "      <td>0.032014</td>\n",
       "      <td>-0.657887</td>\n",
       "    </tr>\n",
       "    <tr>\n",
       "      <th>3</th>\n",
       "      <td>lesbian</td>\n",
       "      <td>0.108470</td>\n",
       "      <td>499</td>\n",
       "      <td>sexual_orientation</td>\n",
       "      <td>0.011127</td>\n",
       "      <td>-0.897422</td>\n",
       "    </tr>\n",
       "    <tr>\n",
       "      <th>4</th>\n",
       "      <td>heterosexual</td>\n",
       "      <td>0.138606</td>\n",
       "      <td>93</td>\n",
       "      <td>sexual_orientation</td>\n",
       "      <td>0.054346</td>\n",
       "      <td>-0.607911</td>\n",
       "    </tr>\n",
       "    <tr>\n",
       "      <th>5</th>\n",
       "      <td>Christian</td>\n",
       "      <td>0.076528</td>\n",
       "      <td>70500</td>\n",
       "      <td>religion</td>\n",
       "      <td>0.009583</td>\n",
       "      <td>-0.874779</td>\n",
       "    </tr>\n",
       "    <tr>\n",
       "      <th>6</th>\n",
       "      <td>secular</td>\n",
       "      <td>0.057951</td>\n",
       "      <td>31510</td>\n",
       "      <td>religion</td>\n",
       "      <td>0.010277</td>\n",
       "      <td>-0.822661</td>\n",
       "    </tr>\n",
       "    <tr>\n",
       "      <th>7</th>\n",
       "      <td>Catholic</td>\n",
       "      <td>0.052459</td>\n",
       "      <td>30767</td>\n",
       "      <td>religion</td>\n",
       "      <td>0.007505</td>\n",
       "      <td>-0.856937</td>\n",
       "    </tr>\n",
       "    <tr>\n",
       "      <th>8</th>\n",
       "      <td>religious</td>\n",
       "      <td>0.061934</td>\n",
       "      <td>28218</td>\n",
       "      <td>religion</td>\n",
       "      <td>0.020732</td>\n",
       "      <td>-0.665265</td>\n",
       "    </tr>\n",
       "    <tr>\n",
       "      <th>9</th>\n",
       "      <td>Methodist</td>\n",
       "      <td>0.020943</td>\n",
       "      <td>15379</td>\n",
       "      <td>religion</td>\n",
       "      <td>0.005317</td>\n",
       "      <td>-0.746127</td>\n",
       "    </tr>\n",
       "    <tr>\n",
       "      <th>10</th>\n",
       "      <td>European</td>\n",
       "      <td>0.026369</td>\n",
       "      <td>1682046</td>\n",
       "      <td>race_ethnicity</td>\n",
       "      <td>0.010782</td>\n",
       "      <td>-0.591102</td>\n",
       "    </tr>\n",
       "    <tr>\n",
       "      <th>11</th>\n",
       "      <td>Latin</td>\n",
       "      <td>0.032272</td>\n",
       "      <td>358251</td>\n",
       "      <td>race_ethnicity</td>\n",
       "      <td>0.007501</td>\n",
       "      <td>-0.767578</td>\n",
       "    </tr>\n",
       "    <tr>\n",
       "      <th>12</th>\n",
       "      <td>Asian</td>\n",
       "      <td>0.052897</td>\n",
       "      <td>200495</td>\n",
       "      <td>race_ethnicity</td>\n",
       "      <td>0.012151</td>\n",
       "      <td>-0.770295</td>\n",
       "    </tr>\n",
       "    <tr>\n",
       "      <th>13</th>\n",
       "      <td>African</td>\n",
       "      <td>0.047833</td>\n",
       "      <td>124323</td>\n",
       "      <td>race_ethnicity</td>\n",
       "      <td>0.012131</td>\n",
       "      <td>-0.746393</td>\n",
       "    </tr>\n",
       "    <tr>\n",
       "      <th>14</th>\n",
       "      <td>Arab</td>\n",
       "      <td>0.050105</td>\n",
       "      <td>42580</td>\n",
       "      <td>race_ethnicity</td>\n",
       "      <td>0.009941</td>\n",
       "      <td>-0.801586</td>\n",
       "    </tr>\n",
       "    <tr>\n",
       "      <th>15</th>\n",
       "      <td>American</td>\n",
       "      <td>0.038610</td>\n",
       "      <td>3990333</td>\n",
       "      <td>nationality</td>\n",
       "      <td>0.007574</td>\n",
       "      <td>-0.803836</td>\n",
       "    </tr>\n",
       "    <tr>\n",
       "      <th>16</th>\n",
       "      <td>Chinese</td>\n",
       "      <td>0.035783</td>\n",
       "      <td>474585</td>\n",
       "      <td>nationality</td>\n",
       "      <td>0.009901</td>\n",
       "      <td>-0.723303</td>\n",
       "    </tr>\n",
       "    <tr>\n",
       "      <th>17</th>\n",
       "      <td>Mexican</td>\n",
       "      <td>0.059238</td>\n",
       "      <td>373344</td>\n",
       "      <td>nationality</td>\n",
       "      <td>0.011106</td>\n",
       "      <td>-0.812528</td>\n",
       "    </tr>\n",
       "    <tr>\n",
       "      <th>18</th>\n",
       "      <td>Indian</td>\n",
       "      <td>0.030447</td>\n",
       "      <td>210818</td>\n",
       "      <td>nationality</td>\n",
       "      <td>0.007336</td>\n",
       "      <td>-0.759075</td>\n",
       "    </tr>\n",
       "    <tr>\n",
       "      <th>19</th>\n",
       "      <td>Korean</td>\n",
       "      <td>0.037852</td>\n",
       "      <td>125105</td>\n",
       "      <td>nationality</td>\n",
       "      <td>0.008325</td>\n",
       "      <td>-0.780053</td>\n",
       "    </tr>\n",
       "    <tr>\n",
       "      <th>20</th>\n",
       "      <td>masculine</td>\n",
       "      <td>0.072640</td>\n",
       "      <td>55921</td>\n",
       "      <td>gender_and_sex</td>\n",
       "      <td>0.026259</td>\n",
       "      <td>-0.638509</td>\n",
       "    </tr>\n",
       "    <tr>\n",
       "      <th>21</th>\n",
       "      <td>female</td>\n",
       "      <td>0.066548</td>\n",
       "      <td>46055</td>\n",
       "      <td>gender_and_sex</td>\n",
       "      <td>0.021492</td>\n",
       "      <td>-0.677043</td>\n",
       "    </tr>\n",
       "    <tr>\n",
       "      <th>22</th>\n",
       "      <td>male</td>\n",
       "      <td>0.071202</td>\n",
       "      <td>42691</td>\n",
       "      <td>gender_and_sex</td>\n",
       "      <td>0.019505</td>\n",
       "      <td>-0.726068</td>\n",
       "    </tr>\n",
       "    <tr>\n",
       "      <th>23</th>\n",
       "      <td>feminine</td>\n",
       "      <td>0.088093</td>\n",
       "      <td>6651</td>\n",
       "      <td>gender_and_sex</td>\n",
       "      <td>0.029548</td>\n",
       "      <td>-0.664577</td>\n",
       "    </tr>\n",
       "    <tr>\n",
       "      <th>24</th>\n",
       "      <td>gender neutral</td>\n",
       "      <td>0.054053</td>\n",
       "      <td>1039</td>\n",
       "      <td>gender_and_sex</td>\n",
       "      <td>0.018374</td>\n",
       "      <td>-0.660064</td>\n",
       "    </tr>\n",
       "  </tbody>\n",
       "</table>\n",
       "</div>"
      ],
      "text/plain": [
       "   original_descriptor  c4_avg_toxicity_score  num_unique_sentences  \\\n",
       "0                LGBTQ               0.036130                  4475   \n",
       "1                 LGBT               0.038687                  2148   \n",
       "2                  gay               0.093577                  1313   \n",
       "3              lesbian               0.108470                   499   \n",
       "4         heterosexual               0.138606                    93   \n",
       "5            Christian               0.076528                 70500   \n",
       "6              secular               0.057951                 31510   \n",
       "7             Catholic               0.052459                 30767   \n",
       "8            religious               0.061934                 28218   \n",
       "9            Methodist               0.020943                 15379   \n",
       "10            European               0.026369               1682046   \n",
       "11               Latin               0.032272                358251   \n",
       "12               Asian               0.052897                200495   \n",
       "13             African               0.047833                124323   \n",
       "14                Arab               0.050105                 42580   \n",
       "15            American               0.038610               3990333   \n",
       "16             Chinese               0.035783                474585   \n",
       "17             Mexican               0.059238                373344   \n",
       "18              Indian               0.030447                210818   \n",
       "19              Korean               0.037852                125105   \n",
       "20           masculine               0.072640                 55921   \n",
       "21              female               0.066548                 46055   \n",
       "22                male               0.071202                 42691   \n",
       "23            feminine               0.088093                  6651   \n",
       "24      gender neutral               0.054053                  1039   \n",
       "\n",
       "        broad_category  bc_avg_toxicity_score  percent_reduction  \n",
       "0   sexual_orientation               0.005175          -0.856772  \n",
       "1   sexual_orientation               0.005870          -0.848268  \n",
       "2   sexual_orientation               0.032014          -0.657887  \n",
       "3   sexual_orientation               0.011127          -0.897422  \n",
       "4   sexual_orientation               0.054346          -0.607911  \n",
       "5             religion               0.009583          -0.874779  \n",
       "6             religion               0.010277          -0.822661  \n",
       "7             religion               0.007505          -0.856937  \n",
       "8             religion               0.020732          -0.665265  \n",
       "9             religion               0.005317          -0.746127  \n",
       "10      race_ethnicity               0.010782          -0.591102  \n",
       "11      race_ethnicity               0.007501          -0.767578  \n",
       "12      race_ethnicity               0.012151          -0.770295  \n",
       "13      race_ethnicity               0.012131          -0.746393  \n",
       "14      race_ethnicity               0.009941          -0.801586  \n",
       "15         nationality               0.007574          -0.803836  \n",
       "16         nationality               0.009901          -0.723303  \n",
       "17         nationality               0.011106          -0.812528  \n",
       "18         nationality               0.007336          -0.759075  \n",
       "19         nationality               0.008325          -0.780053  \n",
       "20      gender_and_sex               0.026259          -0.638509  \n",
       "21      gender_and_sex               0.021492          -0.677043  \n",
       "22      gender_and_sex               0.019505          -0.726068  \n",
       "23      gender_and_sex               0.029548          -0.664577  \n",
       "24      gender_and_sex               0.018374          -0.660064  "
      ]
     },
     "execution_count": 59,
     "metadata": {},
     "output_type": "execute_result"
    }
   ],
   "source": [
    "c4_edgar_top5prev"
   ]
  },
  {
   "cell_type": "markdown",
   "id": "fd44d7c6-114f-4ee4-9a6d-bf8e9b85faf4",
   "metadata": {
    "jp-MarkdownHeadingCollapsed": true
   },
   "source": [
    "### p-value test"
   ]
  },
  {
   "cell_type": "code",
   "execution_count": 62,
   "id": "b6aff52a-2649-40a5-a40f-322d58c6df69",
   "metadata": {},
   "outputs": [],
   "source": [
    "edgar_desc2sentscore = sent2score.sort_values(by='original_descriptor')\n",
    "c4_desc2sentscore = c4_longest_desc.sort_values(by='original_descriptor')"
   ]
  },
  {
   "cell_type": "code",
   "execution_count": 63,
   "id": "b58febe6-6dfa-42f8-83bc-728349d30202",
   "metadata": {},
   "outputs": [],
   "source": [
    "all_desc2sentscore = edgar_desc2sentscore.rename(columns = {'toxicity_score': 'edgar_toxicity_score'})\n",
    "all_desc2sentscore['c4_toxicity_score'] = c4_desc2sentscore['toxicity_score']"
   ]
  },
  {
   "cell_type": "code",
   "execution_count": 65,
   "id": "a12eac86-f276-4a23-9d03-a30f0cb2404d",
   "metadata": {},
   "outputs": [],
   "source": [
    "all_desc2sentscore = all_desc2sentscore.dropna()"
   ]
  },
  {
   "cell_type": "code",
   "execution_count": 66,
   "id": "35874562-8e6f-4730-8007-133e8763c318",
   "metadata": {},
   "outputs": [],
   "source": [
    "orig_desc = list(set(c4_desc2sentscore['original_descriptor']))"
   ]
  },
  {
   "cell_type": "code",
   "execution_count": 67,
   "id": "31d3665b-a02a-4cfa-a17f-4a55f4632cc8",
   "metadata": {},
   "outputs": [
    {
     "data": {
      "application/vnd.jupyter.widget-view+json": {
       "model_id": "74d9d652e03a43299417733ffe84269c",
       "version_major": 2,
       "version_minor": 0
      },
      "text/plain": [
       "  0%|          | 0/121 [00:00<?, ?it/s]"
      ]
     },
     "metadata": {},
     "output_type": "display_data"
    },
    {
     "name": "stderr",
     "output_type": "stream",
     "text": [
      "/home/biz/Documents/research/venv/lib/python3.10/site-packages/scipy/stats/_stats_py.py:1081: RuntimeWarning: divide by zero encountered in divide\n",
      "  var *= np.divide(n, n-ddof)  # to avoid error on division by zero\n",
      "/home/biz/Documents/research/venv/lib/python3.10/site-packages/scipy/stats/_stats_py.py:1081: RuntimeWarning: invalid value encountered in scalar multiply\n",
      "  var *= np.divide(n, n-ddof)  # to avoid error on division by zero\n"
     ]
    }
   ],
   "source": [
    "import numpy as np\n",
    "from scipy import stats\n",
    "\n",
    "desc2res = {}\n",
    "\n",
    "all_groupby = all_desc2sentscore.groupby('original_descriptor')\n",
    "for d in tqdm(orig_desc):\n",
    "    edgar_group = np.array(list(all_groupby.get_group(d)['edgar_toxicity_score']))\n",
    "    c4_group = np.array(list(all_groupby.get_group(d)['c4_toxicity_score']))\n",
    "    desc2res[d] = stats.ttest_ind(edgar_group, c4_group, equal_var = False)"
   ]
  },
  {
   "cell_type": "code",
   "execution_count": 68,
   "id": "bb176ab3-ddb6-4017-a228-7483b0ee68b2",
   "metadata": {},
   "outputs": [],
   "source": [
    "desc2pval = {}\n",
    "\n",
    "for desc, res in desc2res.items():\n",
    "    desc2pval[desc] = res.pvalue"
   ]
  },
  {
   "cell_type": "code",
   "execution_count": 74,
   "id": "a8c42d87-0806-405d-98c4-7f85969ea902",
   "metadata": {},
   "outputs": [],
   "source": [
    "original_desc2pval = pd.DataFrame(desc2pval.items()).rename(columns={0: 'original_descriptor', 1: 'p-value'})"
   ]
  },
  {
   "cell_type": "code",
   "execution_count": 75,
   "id": "fa62d39c-7efd-48f4-b2fa-15c9c7b0b18d",
   "metadata": {},
   "outputs": [],
   "source": [
    "c4_edgar_pval_table = c4_edgar_top5prev.merge(\n",
    "    original_desc2pval,\n",
    "    on = 'original_descriptor', \n",
    "    how = 'left'\n",
    ")"
   ]
  },
  {
   "cell_type": "code",
   "execution_count": 80,
   "id": "b5a712de-06ea-4459-92b5-bfbfff16ade7",
   "metadata": {},
   "outputs": [
    {
     "data": {
      "text/html": [
       "<div>\n",
       "<style scoped>\n",
       "    .dataframe tbody tr th:only-of-type {\n",
       "        vertical-align: middle;\n",
       "    }\n",
       "\n",
       "    .dataframe tbody tr th {\n",
       "        vertical-align: top;\n",
       "    }\n",
       "\n",
       "    .dataframe thead th {\n",
       "        text-align: right;\n",
       "    }\n",
       "</style>\n",
       "<table border=\"1\" class=\"dataframe\">\n",
       "  <thead>\n",
       "    <tr style=\"text-align: right;\">\n",
       "      <th></th>\n",
       "      <th>original_descriptor</th>\n",
       "      <th>c4_avg_toxicity_score</th>\n",
       "      <th>num_unique_sentences</th>\n",
       "      <th>broad_category</th>\n",
       "      <th>bc_avg_toxicity_score</th>\n",
       "      <th>percent_reduction</th>\n",
       "      <th>p-value</th>\n",
       "    </tr>\n",
       "  </thead>\n",
       "  <tbody>\n",
       "    <tr>\n",
       "      <th>4</th>\n",
       "      <td>heterosexual</td>\n",
       "      <td>0.138606</td>\n",
       "      <td>93</td>\n",
       "      <td>sexual_orientation</td>\n",
       "      <td>0.054346</td>\n",
       "      <td>-0.607911</td>\n",
       "      <td>0.544848</td>\n",
       "    </tr>\n",
       "  </tbody>\n",
       "</table>\n",
       "</div>"
      ],
      "text/plain": [
       "  original_descriptor  c4_avg_toxicity_score  num_unique_sentences  \\\n",
       "4        heterosexual               0.138606                    93   \n",
       "\n",
       "       broad_category  bc_avg_toxicity_score  percent_reduction   p-value  \n",
       "4  sexual_orientation               0.054346          -0.607911  0.544848  "
      ]
     },
     "execution_count": 80,
     "metadata": {},
     "output_type": "execute_result"
    }
   ],
   "source": [
    "c4_edgar_pval_table[c4_edgar_pval_table['p-value']> 0.01]"
   ]
  },
  {
   "cell_type": "markdown",
   "id": "fb166423-ee3b-44c2-904d-e9ec234f7427",
   "metadata": {},
   "source": [
    "# Table 4 & Table 5: Model Performance on financial domain, toxicty and general LLM benchmarks"
   ]
  },
  {
   "cell_type": "markdown",
   "id": "fd1fc04b-6563-4d1c-9288-b3fbc96f5699",
   "metadata": {},
   "source": [
    "Table 4 contains F-1 scores, Toxicity score and Perspective score directly taken from running Fin NER, Financial Phrasebank and RealToxictyPrompts.\\\n",
    "Table 5 (of Appendix B) contains accurarcy scores of models on a suite of general LLM benchmarks \\\n",
    "See jupyter notebooks within 'model_evaluation' directory for details on how to perform the evaluation."
   ]
  },
  {
   "cell_type": "markdown",
   "id": "467415bf-7c14-428f-a0e9-e8ea26b13aa8",
   "metadata": {},
   "source": [
    "# Figure 5: Changes in safety scores across 13 demographic target groups for Pythia-1.4B and Phi-1.5"
   ]
  },
  {
   "cell_type": "code",
   "execution_count": 37,
   "id": "99e530c8-9a5c-48b0-9a28-7557b81ac80f",
   "metadata": {},
   "outputs": [],
   "source": [
    "SAFENLP_SCORES_DIR = 'safeNLP_scores'"
   ]
  },
  {
   "cell_type": "markdown",
   "id": "56e1325f-4c81-4084-9bd0-6a14eb3c8cea",
   "metadata": {},
   "source": [
    "## Phi1.5 vs. Phi1.5-BeanCounter"
   ]
  },
  {
   "cell_type": "code",
   "execution_count": 89,
   "id": "0deb4bfa-2992-46e4-b14c-0bfaf8027ccc",
   "metadata": {},
   "outputs": [],
   "source": [
    "# scores generated from safenlp_evaluation.ipynb\n",
    "with open(os.path.join(MODEL_EVAL_DIR, SAFENLP_SCORES_DIR, 'phi-1_5_results/saftey_scores.json')) as json_file:\n",
    "    phi1_5_scores = json.load(json_file)\n",
    "\n",
    "with open(os.path.join(MODEL_EVAL_DIR, SAFENLP_SCORES_DIR, 'phi-1_5-bc_results/saftey_scores.json')) as json_file:\n",
    "    phi1_5bc_cp_highlrscores = json.load(json_file)"
   ]
  },
  {
   "cell_type": "code",
   "execution_count": 96,
   "id": "d8ac549d-1cde-42d7-8787-9894c80d0812",
   "metadata": {},
   "outputs": [],
   "source": [
    "phi1_5_cat2score = {}\n",
    "for category, score_pval in phi1_5_scores.items():\n",
    "    phi1_5_cat2score[category] = score_pval['safety_score']\n",
    "\n",
    "phi1_5bc_cp_highlr_cat2score = {}\n",
    "for category, score_pval in phi1_5bc_cp_highlrscores.items():\n",
    "    phi1_5bc_cp_highlr_cat2score[category] = score_pval['safety_score']\n",
    "\n",
    "percent_diff_phi1_5 = {}\n",
    "for category, score in phi1_5bc_cp_highlr_cat2score.items():\n",
    "    phi1_5_score = phi1_5_cat2score[category]\n",
    "    percent_diff_phi1_5[category] = (score-phi1_5_score)/phi1_5_score\n",
    "\n",
    "diff_phi_df = pd.DataFrame(percent_diff_phi1_5.items()).rename(columns={0: 'target', 1: 'safety_score_increase'})\n",
    "diff_phi_df['model_family'] = 'Phi-1.5b'"
   ]
  },
  {
   "cell_type": "markdown",
   "id": "aecf4d6a-4f2a-4da3-b750-0abf286ecdb4",
   "metadata": {},
   "source": [
    "## Pythia-1.4B vs. Pythia-1.4B-BeanCounter"
   ]
  },
  {
   "cell_type": "code",
   "execution_count": 93,
   "id": "1cdc54a2-eefe-453f-8a16-8acd748aeeed",
   "metadata": {},
   "outputs": [],
   "source": [
    "# scores generated from safenlp_evaluation.ipynb\n",
    "with open(os.path.join(MODEL_EVAL_DIR, SAFENLP_SCORES_DIR, 'pythia_results/saftey_scores.json')) as json_file:\n",
    "    pythia_scores = json.load(json_file)\n",
    "\n",
    "with open(os.path.join(MODEL_EVAL_DIR, SAFENLP_SCORES_DIR, 'pythia-bc_results/saftey_scores.json')) as json_file:\n",
    "    bc_pythia_scores = json.load(json_file)"
   ]
  },
  {
   "cell_type": "code",
   "execution_count": 97,
   "id": "7bdbcba5-6f22-463e-ae76-bd0f2b578848",
   "metadata": {},
   "outputs": [],
   "source": [
    "pythia_cat2score = {}\n",
    "for category, score_pval in pythia_scores.items():\n",
    "    pythia_cat2score[category] = score_pval['safety_score']\n",
    "\n",
    "bc_pythia_cat2score = {}\n",
    "for category, score_pval in bc_pythia_scores.items():\n",
    "    bc_pythia_cat2score[category] = score_pval['safety_score']\n",
    "\n",
    "percent_diff_pythia = {}\n",
    "for category, score in bc_pythia_cat2score.items():\n",
    "    pythia_score = pythia_cat2score[category]\n",
    "    percent_diff_pythia[category] = (score-pythia_score)/pythia_score\n",
    "\n",
    "diff_pythia_df = pd.DataFrame(percent_diff_pythia.items()).rename(columns={0: 'target', 1: 'safety_score_increase'})\n",
    "diff_pythia_df['model_family'] = 'Pythia-1.4b'"
   ]
  },
  {
   "cell_type": "markdown",
   "id": "cc73a1a4-441d-4c4d-8547-2550a61a5148",
   "metadata": {},
   "source": [
    "## Percent difference plot"
   ]
  },
  {
   "cell_type": "code",
   "execution_count": 98,
   "id": "2d0d97c8-df04-4b22-9644-e336d3eb97a6",
   "metadata": {},
   "outputs": [],
   "source": [
    "all_diff_df = pd.concat([diff_pythia_df, diff_phi_df])"
   ]
  },
  {
   "cell_type": "code",
   "execution_count": 100,
   "id": "2084c4f8-9418-427c-95c5-90d63a10a0ca",
   "metadata": {},
   "outputs": [
    {
     "data": {
      "image/png": "[encoded data removed]",
      "text/plain": [
       "<Figure size 1014.62x500 with 1 Axes>"
      ]
     },
     "metadata": {},
     "output_type": "display_data"
    }
   ],
   "source": [
    "from matplotlib import rcParams\n",
    "rcParams['font.family'] = 'serif'\n",
    "from  matplotlib.ticker import PercentFormatter\n",
    "g = sns.catplot(\n",
    "    data=all_diff_df, kind=\"bar\",\n",
    "    y=\"target\", x=\"safety_score_increase\", hue=\"model_family\", palette=\"colorblind\", aspect=1.6)\n",
    "# g.despine(left=True)\n",
    "g.set_axis_labels(\"Percent Difference in Safety Score\", \"Target Groups\")\n",
    "for ax in g.axes.flat:\n",
    "    ax.xaxis.set_major_formatter(PercentFormatter(1))\n",
    "g.legend.set_title(\"\")\n",
    "plt.show()"
   ]
  },
  {
   "cell_type": "markdown",
   "id": "78ce539f-4d38-46e4-8caa-6f2293215749",
   "metadata": {},
   "source": [
    "# Appendix C"
   ]
  },
  {
   "cell_type": "code",
   "execution_count": 18,
   "id": "1e1fd253-51db-402e-83d0-1984c6da720a",
   "metadata": {},
   "outputs": [],
   "source": [
    "fns_tbp = []\n",
    "for path, dirs, fns in os.walk(os.path.join(SUPPORTING_DATA_DIR, C4_EXTRACTED_SENTENCES_DIR)):\n",
    "    for fn in fns:\n",
    "        if os.path.splitext(fn)[-1] == '.gz':\n",
    "            fns_tbp.append(os.path.join(path, fn))"
   ]
  },
  {
   "cell_type": "code",
   "execution_count": 19,
   "id": "a408d220-2617-4e42-b638-d6530986af1f",
   "metadata": {},
   "outputs": [],
   "source": [
    "def work(path):\n",
    "    with gzip.open(path, 'r') as out_file:\n",
    "        try:\n",
    "            info_df = pd.read_json(out_file, lines=True, orient='records')\n",
    "            if info_df.empty:\n",
    "                return\n",
    "            info_df['original_descriptor'] = info_df['descriptor'].apply(lambda x : variation2original[x] if x in variation2original.keys() else x)\n",
    "            return info_df\n",
    "        except:\n",
    "            return path"
   ]
  },
  {
   "cell_type": "code",
   "execution_count": 20,
   "id": "d996bf1d-9d86-4a3e-92f6-72c1607b4692",
   "metadata": {},
   "outputs": [
    {
     "data": {
      "application/vnd.jupyter.widget-view+json": {
       "model_id": "7e5c41fce6634f379cca09e120f2e890",
       "version_major": 2,
       "version_minor": 0
      },
      "text/plain": [
       "  0%|          | 0/1032 [00:00<?, ?it/s]"
      ]
     },
     "metadata": {},
     "output_type": "display_data"
    }
   ],
   "source": [
    "with mp.Pool(16) as p:\n",
    "    c4_info_dfs = [r for r in tqdm(p.imap_unordered(work, fns_tbp), total=len(fns_tbp), miniters=1)]"
   ]
  },
  {
   "cell_type": "code",
   "execution_count": 22,
   "id": "7a61dba0-1fe9-4508-a929-14a8c60d1660",
   "metadata": {},
   "outputs": [],
   "source": [
    "all_sentences_c4 = pd.concat(c4_info_dfs)\n",
    "all_sentences_c4 = all_sentences_c4[all_sentences_c4['original_descriptor'] != 'LGBTQQ']\n",
    "all_sentences_c4 = all_sentences_c4[all_sentences_c4['original_descriptor'] != 'LGBTQQQ']\n",
    "all_sentences_c4['broad_category'] = all_sentences_c4['original_descriptor'].apply(lambda x : desc2category[x][0])"
   ]
  },
  {
   "cell_type": "code",
   "execution_count": 23,
   "id": "8591bc17-392e-4107-8132-8d88c95ef6e2",
   "metadata": {},
   "outputs": [],
   "source": [
    "url2categories = pd.DataFrame(all_sentences_c4.groupby(['url'])['broad_category'].unique()) \\\n",
    "    .reset_index().rename(columns = {'broad_category' : 'unique_categories'})"
   ]
  },
  {
   "cell_type": "code",
   "execution_count": 24,
   "id": "6398e6ec-1266-4d52-bd0c-f9f29a68598a",
   "metadata": {},
   "outputs": [],
   "source": [
    "url2categories['race_ethnicity'] = url2categories['unique_categories'].apply(lambda x: 1 if 'race_ethnicity' in x else 0)\n",
    "url2categories['nationality'] =  url2categories['unique_categories'].apply(lambda x: 1 if 'nationality' in x else 0)\n",
    "url2categories['religion'] =  url2categories['unique_categories'].apply(lambda x: 1 if 'religion' in x else 0)\n",
    "url2categories['gender_and_sex'] =  url2categories['unique_categories'].apply(lambda x: 1 if 'gender_and_sex' in x else 0)\n",
    "url2categories['sexual_orientation'] =  url2categories['unique_categories'].apply(lambda x: 1 if 'sexual_orientation' in x else 0)"
   ]
  },
  {
   "cell_type": "code",
   "execution_count": 25,
   "id": "06e1ee2b-c1e4-47a5-ad5e-faa450f1e318",
   "metadata": {},
   "outputs": [],
   "source": [
    "percent_entry_w_SO = 100*(url2categories['sexual_orientation'].sum() / url2categories.shape[0])\n",
    "percent_entry_w_nat = 100*(url2categories['nationality'].sum() / url2categories.shape[0])\n",
    "percent_entry_w_GE = 100*(url2categories['gender_and_sex'].sum() / url2categories.shape[0])\n",
    "percent_entry_w_rel = 100*(url2categories['religion'].sum() / url2categories.shape[0])\n",
    "percent_entry_w_RE = 100*(url2categories['race_ethnicity'].sum() / url2categories.shape[0])"
   ]
  },
  {
   "cell_type": "code",
   "execution_count": 26,
   "id": "0e7d6897-23f1-4185-8e27-8c20baa4c037",
   "metadata": {},
   "outputs": [],
   "source": [
    "category2percent_docs = {\n",
    "    'sexual_orientation' : percent_entry_w_SO,\n",
    "    'nationality' : percent_entry_w_nat,\n",
    "    'gender_and_sex' : percent_entry_w_GE,\n",
    "    'religion' : percent_entry_w_rel,\n",
    "    'race_ethnicity' : percent_entry_w_RE\n",
    "}"
   ]
  },
  {
   "cell_type": "code",
   "execution_count": 27,
   "id": "51f2f15b-41cc-4594-8ff2-f648bbba33af",
   "metadata": {},
   "outputs": [],
   "source": [
    "url_cat_desc = pd.DataFrame(all_sentences_c4.groupby(['url', 'broad_category'])['original_descriptor'].unique()).reset_index()"
   ]
  },
  {
   "cell_type": "code",
   "execution_count": 28,
   "id": "e7a4b3e7-2c36-46ad-bd3f-3598d1a5ed4f",
   "metadata": {},
   "outputs": [],
   "source": [
    "def get_prevalence_category(category):\n",
    "    cat_list = list(url_cat_desc[url_cat_desc['broad_category'] == category]['original_descriptor'])\n",
    "\n",
    "    combined_cat_list = []\n",
    "    for i in cat_list:\n",
    "        for j in i:\n",
    "            combined_cat_list.append(j)\n",
    "    cat_freq = Counter(combined_cat_list)\n",
    "    \n",
    "    cat2prevalence = {}\n",
    "    for cat, freq in cat_freq.items():\n",
    "        percent_of_category = 100*(freq / url2categories[category].sum())\n",
    "        cat2prevalence[cat] = percent_of_category\n",
    "    \n",
    "    return pd.DataFrame(dict(sorted(cat2prevalence.items(), key=lambda item: item[1], reverse = True)).items()).rename(columns = {0: 'descriptor', 1:'percent_filings'}).head()"
   ]
  },
  {
   "cell_type": "code",
   "execution_count": 29,
   "id": "13032b6f-9c84-43d6-abf2-57e7747e6dc4",
   "metadata": {},
   "outputs": [],
   "source": [
    "SO_top5 = get_prevalence_category('sexual_orientation')\n",
    "nat_top5 = get_prevalence_category('nationality')\n",
    "GE_top5 = get_prevalence_category('gender_and_sex')\n",
    "rel_top5 = get_prevalence_category('religion')\n",
    "RE_top5 = get_prevalence_category('race_ethnicity')"
   ]
  },
  {
   "cell_type": "code",
   "execution_count": 31,
   "id": "a1fa3550-af44-4b0e-a811-32c6c8b575e8",
   "metadata": {},
   "outputs": [],
   "source": [
    "SO_top5['category'] = 'sexual_orientation'\n",
    "SO_top5['percent_filings_category'] = category2percent_docs['sexual_orientation']\n",
    "\n",
    "nat_top5['category'] = 'nationality'\n",
    "nat_top5['percent_filings_category'] = category2percent_docs['nationality']\n",
    "\n",
    "GE_top5['category'] = 'gender_and_sex'\n",
    "GE_top5['percent_filings_category'] = category2percent_docs['gender_and_sex']\n",
    "\n",
    "rel_top5['category'] = 'religion'\n",
    "rel_top5['percent_filings_category'] = category2percent_docs['religion']\n",
    "\n",
    "RE_top5['category'] = 'race_ethnicity'\n",
    "RE_top5['percent_filings_category'] = category2percent_docs['race_ethnicity']"
   ]
  },
  {
   "cell_type": "code",
   "execution_count": 32,
   "id": "43375900-2d65-45d3-b37e-5ca05ecf1859",
   "metadata": {},
   "outputs": [],
   "source": [
    "c4_prevalence = pd.concat([SO_top5, nat_top5, GE_top5, rel_top5, RE_top5])"
   ]
  },
  {
   "cell_type": "code",
   "execution_count": 33,
   "id": "d81efdef-ebc2-42b2-8014-521d945d9d92",
   "metadata": {},
   "outputs": [
    {
     "data": {
      "text/html": [
       "<div>\n",
       "<style scoped>\n",
       "    .dataframe tbody tr th:only-of-type {\n",
       "        vertical-align: middle;\n",
       "    }\n",
       "\n",
       "    .dataframe tbody tr th {\n",
       "        vertical-align: top;\n",
       "    }\n",
       "\n",
       "    .dataframe thead th {\n",
       "        text-align: right;\n",
       "    }\n",
       "</style>\n",
       "<table border=\"1\" class=\"dataframe\">\n",
       "  <thead>\n",
       "    <tr style=\"text-align: right;\">\n",
       "      <th></th>\n",
       "      <th>descriptor</th>\n",
       "      <th>percent_filings</th>\n",
       "      <th>category</th>\n",
       "      <th>percent_filings_category</th>\n",
       "    </tr>\n",
       "  </thead>\n",
       "  <tbody>\n",
       "    <tr>\n",
       "      <th>0</th>\n",
       "      <td>gay</td>\n",
       "      <td>54.805762</td>\n",
       "      <td>sexual_orientation</td>\n",
       "      <td>2.643633</td>\n",
       "    </tr>\n",
       "    <tr>\n",
       "      <th>1</th>\n",
       "      <td>LGBT</td>\n",
       "      <td>19.233162</td>\n",
       "      <td>sexual_orientation</td>\n",
       "      <td>2.643633</td>\n",
       "    </tr>\n",
       "    <tr>\n",
       "      <th>2</th>\n",
       "      <td>lesbian</td>\n",
       "      <td>14.467597</td>\n",
       "      <td>sexual_orientation</td>\n",
       "      <td>2.643633</td>\n",
       "    </tr>\n",
       "    <tr>\n",
       "      <th>3</th>\n",
       "      <td>LGBTQ</td>\n",
       "      <td>14.453673</td>\n",
       "      <td>sexual_orientation</td>\n",
       "      <td>2.643633</td>\n",
       "    </tr>\n",
       "    <tr>\n",
       "      <th>4</th>\n",
       "      <td>queer</td>\n",
       "      <td>12.253442</td>\n",
       "      <td>sexual_orientation</td>\n",
       "      <td>2.643633</td>\n",
       "    </tr>\n",
       "    <tr>\n",
       "      <th>0</th>\n",
       "      <td>American</td>\n",
       "      <td>64.197495</td>\n",
       "      <td>nationality</td>\n",
       "      <td>51.094642</td>\n",
       "    </tr>\n",
       "    <tr>\n",
       "      <th>1</th>\n",
       "      <td>Indian</td>\n",
       "      <td>16.448722</td>\n",
       "      <td>nationality</td>\n",
       "      <td>51.094642</td>\n",
       "    </tr>\n",
       "    <tr>\n",
       "      <th>2</th>\n",
       "      <td>Chinese</td>\n",
       "      <td>16.201215</td>\n",
       "      <td>nationality</td>\n",
       "      <td>51.094642</td>\n",
       "    </tr>\n",
       "    <tr>\n",
       "      <th>3</th>\n",
       "      <td>Mexican</td>\n",
       "      <td>4.743162</td>\n",
       "      <td>nationality</td>\n",
       "      <td>51.094642</td>\n",
       "    </tr>\n",
       "    <tr>\n",
       "      <th>4</th>\n",
       "      <td>Korean</td>\n",
       "      <td>4.474592</td>\n",
       "      <td>nationality</td>\n",
       "      <td>51.094642</td>\n",
       "    </tr>\n",
       "    <tr>\n",
       "      <th>0</th>\n",
       "      <td>female</td>\n",
       "      <td>58.093427</td>\n",
       "      <td>gender_and_sex</td>\n",
       "      <td>12.979341</td>\n",
       "    </tr>\n",
       "    <tr>\n",
       "      <th>1</th>\n",
       "      <td>male</td>\n",
       "      <td>43.480678</td>\n",
       "      <td>gender_and_sex</td>\n",
       "      <td>12.979341</td>\n",
       "    </tr>\n",
       "    <tr>\n",
       "      <th>2</th>\n",
       "      <td>feminine</td>\n",
       "      <td>10.220446</td>\n",
       "      <td>gender_and_sex</td>\n",
       "      <td>12.979341</td>\n",
       "    </tr>\n",
       "    <tr>\n",
       "      <th>3</th>\n",
       "      <td>masculine</td>\n",
       "      <td>4.352703</td>\n",
       "      <td>gender_and_sex</td>\n",
       "      <td>12.979341</td>\n",
       "    </tr>\n",
       "    <tr>\n",
       "      <th>4</th>\n",
       "      <td>transgender</td>\n",
       "      <td>2.849902</td>\n",
       "      <td>gender_and_sex</td>\n",
       "      <td>12.979341</td>\n",
       "    </tr>\n",
       "    <tr>\n",
       "      <th>0</th>\n",
       "      <td>Christian</td>\n",
       "      <td>31.173342</td>\n",
       "      <td>religion</td>\n",
       "      <td>25.829022</td>\n",
       "    </tr>\n",
       "    <tr>\n",
       "      <th>1</th>\n",
       "      <td>religious</td>\n",
       "      <td>23.830073</td>\n",
       "      <td>religion</td>\n",
       "      <td>25.829022</td>\n",
       "    </tr>\n",
       "    <tr>\n",
       "      <th>2</th>\n",
       "      <td>spiritual</td>\n",
       "      <td>22.603461</td>\n",
       "      <td>religion</td>\n",
       "      <td>25.829022</td>\n",
       "    </tr>\n",
       "    <tr>\n",
       "      <th>3</th>\n",
       "      <td>Catholic</td>\n",
       "      <td>13.065610</td>\n",
       "      <td>religion</td>\n",
       "      <td>25.829022</td>\n",
       "    </tr>\n",
       "    <tr>\n",
       "      <th>4</th>\n",
       "      <td>Jewish</td>\n",
       "      <td>11.532005</td>\n",
       "      <td>religion</td>\n",
       "      <td>25.829022</td>\n",
       "    </tr>\n",
       "    <tr>\n",
       "      <th>0</th>\n",
       "      <td>European</td>\n",
       "      <td>45.373558</td>\n",
       "      <td>race_ethnicity</td>\n",
       "      <td>30.988608</td>\n",
       "    </tr>\n",
       "    <tr>\n",
       "      <th>1</th>\n",
       "      <td>African</td>\n",
       "      <td>17.808719</td>\n",
       "      <td>race_ethnicity</td>\n",
       "      <td>30.988608</td>\n",
       "    </tr>\n",
       "    <tr>\n",
       "      <th>2</th>\n",
       "      <td>Asian</td>\n",
       "      <td>15.112455</td>\n",
       "      <td>race_ethnicity</td>\n",
       "      <td>30.988608</td>\n",
       "    </tr>\n",
       "    <tr>\n",
       "      <th>3</th>\n",
       "      <td>Latin</td>\n",
       "      <td>10.160782</td>\n",
       "      <td>race_ethnicity</td>\n",
       "      <td>30.988608</td>\n",
       "    </tr>\n",
       "    <tr>\n",
       "      <th>4</th>\n",
       "      <td>Arab</td>\n",
       "      <td>6.283982</td>\n",
       "      <td>race_ethnicity</td>\n",
       "      <td>30.988608</td>\n",
       "    </tr>\n",
       "  </tbody>\n",
       "</table>\n",
       "</div>"
      ],
      "text/plain": [
       "    descriptor  percent_filings            category  percent_filings_category\n",
       "0          gay        54.805762  sexual_orientation                  2.643633\n",
       "1         LGBT        19.233162  sexual_orientation                  2.643633\n",
       "2      lesbian        14.467597  sexual_orientation                  2.643633\n",
       "3        LGBTQ        14.453673  sexual_orientation                  2.643633\n",
       "4        queer        12.253442  sexual_orientation                  2.643633\n",
       "0     American        64.197495         nationality                 51.094642\n",
       "1       Indian        16.448722         nationality                 51.094642\n",
       "2      Chinese        16.201215         nationality                 51.094642\n",
       "3      Mexican         4.743162         nationality                 51.094642\n",
       "4       Korean         4.474592         nationality                 51.094642\n",
       "0       female        58.093427      gender_and_sex                 12.979341\n",
       "1         male        43.480678      gender_and_sex                 12.979341\n",
       "2     feminine        10.220446      gender_and_sex                 12.979341\n",
       "3    masculine         4.352703      gender_and_sex                 12.979341\n",
       "4  transgender         2.849902      gender_and_sex                 12.979341\n",
       "0    Christian        31.173342            religion                 25.829022\n",
       "1    religious        23.830073            religion                 25.829022\n",
       "2    spiritual        22.603461            religion                 25.829022\n",
       "3     Catholic        13.065610            religion                 25.829022\n",
       "4       Jewish        11.532005            religion                 25.829022\n",
       "0     European        45.373558      race_ethnicity                 30.988608\n",
       "1      African        17.808719      race_ethnicity                 30.988608\n",
       "2        Asian        15.112455      race_ethnicity                 30.988608\n",
       "3        Latin        10.160782      race_ethnicity                 30.988608\n",
       "4         Arab         6.283982      race_ethnicity                 30.988608"
      ]
     },
     "execution_count": 33,
     "metadata": {},
     "output_type": "execute_result"
    }
   ],
   "source": [
    "c4_prevalence"
   ]
  },
  {
   "cell_type": "markdown",
   "id": "bebb6b07-bc5c-4c9e-adc8-16953e5f6fc4",
   "metadata": {},
   "source": [
    "# Appendix E"
   ]
  },
  {
   "cell_type": "markdown",
   "id": "aebdcf77-65fe-4279-bea1-742a990d8e3d",
   "metadata": {},
   "source": [
    "### find most toxic BeanCounter sentences within each category"
   ]
  },
  {
   "cell_type": "code",
   "execution_count": null,
   "id": "741e7c71-1614-4759-840b-ac203a4b7153",
   "metadata": {},
   "outputs": [],
   "source": [
    "sent2score = all_scores_updated.merge(\n",
    "    all_sents_df,\n",
    "    on = 'text_hash',\n",
    "    how = 'left'\n",
    ")\n",
    "sent2score['original_descriptor'] = sent2score['descriptor'].apply(lambda x : variation2original[x] if x in variation2original.keys() else x)\n",
    "sent2score['sentence_len'] = sent2score['sentence'].apply(lambda x:len(x))"
   ]
  },
  {
   "cell_type": "code",
   "execution_count": 111,
   "id": "5922a590-f2a0-444c-9ef1-9f84396d6814",
   "metadata": {},
   "outputs": [],
   "source": [
    "top30_toxic_bc = sent2score.sort_values(by='toxicity_score', ascending=False).groupby('category').head(30)\n",
    "top30_toxic_bc['index_link'] = top30_toxic_bc['accession'].apply(lambda x: 'https://www.sec.gov/Archives/edgar/data/' + x.replace('-', '').strip(\"0\") + '/' + x + '-index.html')\n",
    "# can perform additional filtering / cleaning to top30_toxic_bc of your choosing"
   ]
  },
  {
   "cell_type": "code",
   "execution_count": 156,
   "id": "3376ac7a-1987-4058-b57c-482b060eaba9",
   "metadata": {
    "scrolled": true
   },
   "outputs": [],
   "source": [
    "category_groupby = top30_toxic_bc.groupby('category')\n",
    "categories = ['religion', 'gender_and_sex', 'nationality', 'race_ethnicity', 'sexual_orientation']\n",
    "toxic_bc_dfs = []\n",
    "for category in categories:\n",
    "    toxic_bc_dfs.append(pd.DataFrame(category_groupby.get_group(category)).sort_values(by='toxicity_score', ascending=False))"
   ]
  },
  {
   "cell_type": "code",
   "execution_count": 7,
   "id": "3eb22675-6bf8-4b93-9f4c-b25ad1aa25d7",
   "metadata": {
    "scrolled": true
   },
   "outputs": [
    {
     "data": {
      "text/html": [
       "<div>\n",
       "<style scoped>\n",
       "    .dataframe tbody tr th:only-of-type {\n",
       "        vertical-align: middle;\n",
       "    }\n",
       "\n",
       "    .dataframe tbody tr th {\n",
       "        vertical-align: top;\n",
       "    }\n",
       "\n",
       "    .dataframe thead th {\n",
       "        text-align: right;\n",
       "    }\n",
       "</style>\n",
       "<table border=\"1\" class=\"dataframe\">\n",
       "  <thead>\n",
       "    <tr style=\"text-align: right;\">\n",
       "      <th></th>\n",
       "      <th>Unnamed: 0</th>\n",
       "      <th>sentence cleaned</th>\n",
       "      <th>original_descriptor</th>\n",
       "      <th>category</th>\n",
       "      <th>toxicity_score</th>\n",
       "    </tr>\n",
       "  </thead>\n",
       "  <tbody>\n",
       "    <tr>\n",
       "      <th>0</th>\n",
       "      <td>0</td>\n",
       "      <td>We will purchase a semen and inoculate it into...</td>\n",
       "      <td>female</td>\n",
       "      <td>gender_and_sex</td>\n",
       "      <td>0.717606</td>\n",
       "    </tr>\n",
       "    <tr>\n",
       "      <th>1</th>\n",
       "      <td>1</td>\n",
       "      <td>Androgen - immature castrated male rat</td>\n",
       "      <td>male</td>\n",
       "      <td>gender_and_sex</td>\n",
       "      <td>0.637829</td>\n",
       "    </tr>\n",
       "    <tr>\n",
       "      <th>2</th>\n",
       "      <td>2</td>\n",
       "      <td>Anti-androgen - immature castrated male rat</td>\n",
       "      <td>male</td>\n",
       "      <td>gender_and_sex</td>\n",
       "      <td>0.637829</td>\n",
       "    </tr>\n",
       "    <tr>\n",
       "      <th>3</th>\n",
       "      <td>3</td>\n",
       "      <td>The female condom lines the vagina,</td>\n",
       "      <td>female</td>\n",
       "      <td>gender_and_sex</td>\n",
       "      <td>0.602549</td>\n",
       "    </tr>\n",
       "    <tr>\n",
       "      <th>4</th>\n",
       "      <td>4</td>\n",
       "      <td>Estrogen - immature female rat and rabbit</td>\n",
       "      <td>female</td>\n",
       "      <td>gender_and_sex</td>\n",
       "      <td>0.597204</td>\n",
       "    </tr>\n",
       "    <tr>\n",
       "      <th>...</th>\n",
       "      <td>...</td>\n",
       "      <td>...</td>\n",
       "      <td>...</td>\n",
       "      <td>...</td>\n",
       "      <td>...</td>\n",
       "    </tr>\n",
       "    <tr>\n",
       "      <th>145</th>\n",
       "      <td>145</td>\n",
       "      <td>lesbian magazines, it may imply that he or she...</td>\n",
       "      <td>gay</td>\n",
       "      <td>sexual_orientation</td>\n",
       "      <td>0.364568</td>\n",
       "    </tr>\n",
       "    <tr>\n",
       "      <th>146</th>\n",
       "      <td>146</td>\n",
       "      <td>LGBTQ + ESG100 ETF to be Liquidated</td>\n",
       "      <td>LGBTQ</td>\n",
       "      <td>sexual_orientation</td>\n",
       "      <td>0.360951</td>\n",
       "    </tr>\n",
       "    <tr>\n",
       "      <th>147</th>\n",
       "      <td>147</td>\n",
       "      <td>Hispanic, African American and gay business</td>\n",
       "      <td>gay</td>\n",
       "      <td>sexual_orientation</td>\n",
       "      <td>0.360951</td>\n",
       "    </tr>\n",
       "    <tr>\n",
       "      <th>148</th>\n",
       "      <td>148</td>\n",
       "      <td>the gay and lesbian population and the need to...</td>\n",
       "      <td>gay</td>\n",
       "      <td>sexual_orientation</td>\n",
       "      <td>0.351861</td>\n",
       "    </tr>\n",
       "    <tr>\n",
       "      <th>149</th>\n",
       "      <td>149</td>\n",
       "      <td>1.8 \"Cable Version\" shall me...</td>\n",
       "      <td>heterosexual</td>\n",
       "      <td>sexual_orientation</td>\n",
       "      <td>0.351861</td>\n",
       "    </tr>\n",
       "  </tbody>\n",
       "</table>\n",
       "<p>150 rows × 5 columns</p>\n",
       "</div>"
      ],
      "text/plain": [
       "     Unnamed: 0                                   sentence cleaned  \\\n",
       "0             0  We will purchase a semen and inoculate it into...   \n",
       "1             1             Androgen - immature castrated male rat   \n",
       "2             2        Anti-androgen - immature castrated male rat   \n",
       "3             3                The female condom lines the vagina,   \n",
       "4             4          Estrogen - immature female rat and rabbit   \n",
       "..          ...                                                ...   \n",
       "145         145  lesbian magazines, it may imply that he or she...   \n",
       "146         146                LGBTQ + ESG100 ETF to be Liquidated   \n",
       "147         147        Hispanic, African American and gay business   \n",
       "148         148  the gay and lesbian population and the need to...   \n",
       "149         149                    1.8 \"Cable Version\" shall me...   \n",
       "\n",
       "    original_descriptor            category  toxicity_score  \n",
       "0                female      gender_and_sex        0.717606  \n",
       "1                  male      gender_and_sex        0.637829  \n",
       "2                  male      gender_and_sex        0.637829  \n",
       "3                female      gender_and_sex        0.602549  \n",
       "4                female      gender_and_sex        0.597204  \n",
       "..                  ...                 ...             ...  \n",
       "145                 gay  sexual_orientation        0.364568  \n",
       "146               LGBTQ  sexual_orientation        0.360951  \n",
       "147                 gay  sexual_orientation        0.360951  \n",
       "148                 gay  sexual_orientation        0.351861  \n",
       "149        heterosexual  sexual_orientation        0.351861  \n",
       "\n",
       "[150 rows x 5 columns]"
      ]
     },
     "execution_count": 7,
     "metadata": {},
     "output_type": "execute_result"
    }
   ],
   "source": [
    "sentences_ranked = pd.concat(toxic_bc_dfs).reset_index().drop(labels='index', axis = 1)[['sentence cleaned', 'original_descriptor', 'category', 'toxicity_score']]\n",
    "sentences_ranked.to_csv(os.path.join(SUPPORTING_DATA_DIR, 'top30_toxic_beancounter_ranked.csv'))\n",
    "sentences_ranked"
   ]
  },
  {
   "cell_type": "markdown",
   "id": "6a9bff33-5a96-4523-8ebe-978d76ccf3dc",
   "metadata": {},
   "source": [
    "### find most toxic sentences in c4"
   ]
  },
  {
   "cell_type": "code",
   "execution_count": 72,
   "id": "346c2453-ed01-40a3-ac0e-34b16d90f85c",
   "metadata": {},
   "outputs": [],
   "source": [
    "c4_longest_desc['sentence_len'] = c4_longest_desc['sentence'].apply(lambda x: len(x))\n",
    "c4_longest_desc['category'] = c4_longest_desc['original_descriptor'].apply(lambda x: desc2category[x][0])"
   ]
  },
  {
   "cell_type": "code",
   "execution_count": 110,
   "id": "e661dfd9-5030-4e4c-afa4-e72b877ef2fd",
   "metadata": {},
   "outputs": [],
   "source": [
    "top30_toxic_c4 = c4_longest_desc.sort_values(by='toxicity_score', ascending=False).groupby('category').head(30)\n",
    "# can perform additional filtering / cleaning to top30_toxic of your choosing"
   ]
  },
  {
   "cell_type": "code",
   "execution_count": 160,
   "id": "91e78800-d070-4c7f-8051-7fdf89b2f660",
   "metadata": {},
   "outputs": [],
   "source": [
    "category_groupby = top30_toxic_c4.groupby('category')\n",
    "categories = ['gender_and_sex', 'nationality', 'race_ethnicity', 'religion', 'sexual_orientation']\n",
    "toxic_c4_dfs = []\n",
    "for category in categories:\n",
    "    toxic_c4_dfs.append(pd.DataFrame(category_groupby.get_group(category)).sort_values(by='toxicity_score', ascending=False))"
   ]
  },
  {
   "cell_type": "code",
   "execution_count": 8,
   "id": "b8430993-7aa4-45a7-96bf-8f33b9d418eb",
   "metadata": {},
   "outputs": [
    {
     "data": {
      "text/html": [
       "<div>\n",
       "<style scoped>\n",
       "    .dataframe tbody tr th:only-of-type {\n",
       "        vertical-align: middle;\n",
       "    }\n",
       "\n",
       "    .dataframe tbody tr th {\n",
       "        vertical-align: top;\n",
       "    }\n",
       "\n",
       "    .dataframe thead th {\n",
       "        text-align: right;\n",
       "    }\n",
       "</style>\n",
       "<table border=\"1\" class=\"dataframe\">\n",
       "  <thead>\n",
       "    <tr style=\"text-align: right;\">\n",
       "      <th></th>\n",
       "      <th>Unnamed: 0</th>\n",
       "      <th>sentence_cleaned</th>\n",
       "      <th>original_descriptor</th>\n",
       "      <th>category</th>\n",
       "      <th>toxicity_score</th>\n",
       "    </tr>\n",
       "  </thead>\n",
       "  <tbody>\n",
       "    <tr>\n",
       "      <th>0</th>\n",
       "      <td>0</td>\n",
       "      <td>The future, past, &amp; present is female, motherf...</td>\n",
       "      <td>female</td>\n",
       "      <td>gender_and_sex</td>\n",
       "      <td>0.906106</td>\n",
       "    </tr>\n",
       "    <tr>\n",
       "      <th>1</th>\n",
       "      <td>1</td>\n",
       "      <td>\"I've only been a woman ten minutes and alread...</td>\n",
       "      <td>male</td>\n",
       "      <td>gender_and_sex</td>\n",
       "      <td>0.906106</td>\n",
       "    </tr>\n",
       "    <tr>\n",
       "      <th>2</th>\n",
       "      <td>2</td>\n",
       "      <td>females are stupid and irrational creatures an...</td>\n",
       "      <td>female</td>\n",
       "      <td>gender_and_sex</td>\n",
       "      <td>0.906106</td>\n",
       "    </tr>\n",
       "    <tr>\n",
       "      <th>3</th>\n",
       "      <td>3</td>\n",
       "      <td>Bi-masculine cocksucker here.</td>\n",
       "      <td>masculine</td>\n",
       "      <td>gender_and_sex</td>\n",
       "      <td>0.885998</td>\n",
       "    </tr>\n",
       "    <tr>\n",
       "      <th>4</th>\n",
       "      <td>4</td>\n",
       "      <td>maleducated you are educated stupid?</td>\n",
       "      <td>male</td>\n",
       "      <td>gender_and_sex</td>\n",
       "      <td>0.854047</td>\n",
       "    </tr>\n",
       "    <tr>\n",
       "      <th>...</th>\n",
       "      <td>...</td>\n",
       "      <td>...</td>\n",
       "      <td>...</td>\n",
       "      <td>...</td>\n",
       "      <td>...</td>\n",
       "    </tr>\n",
       "    <tr>\n",
       "      <th>145</th>\n",
       "      <td>145</td>\n",
       "      <td>You see, Human Host, I'm a 34-year-old gay man...</td>\n",
       "      <td>gay</td>\n",
       "      <td>sexual_orientation</td>\n",
       "      <td>0.557396</td>\n",
       "    </tr>\n",
       "    <tr>\n",
       "      <th>146</th>\n",
       "      <td>146</td>\n",
       "      <td>Gay teenagers have to cram yet another identit...</td>\n",
       "      <td>gay</td>\n",
       "      <td>sexual_orientation</td>\n",
       "      <td>0.555970</td>\n",
       "    </tr>\n",
       "    <tr>\n",
       "      <th>147</th>\n",
       "      <td>147</td>\n",
       "      <td>Put yourself in her ups and ask yourself how y...</td>\n",
       "      <td>lesbian</td>\n",
       "      <td>sexual_orientation</td>\n",
       "      <td>0.553210</td>\n",
       "    </tr>\n",
       "    <tr>\n",
       "      <th>148</th>\n",
       "      <td>148</td>\n",
       "      <td>Only problem was...no one could find the nosegay!</td>\n",
       "      <td>gay</td>\n",
       "      <td>sexual_orientation</td>\n",
       "      <td>0.548233</td>\n",
       "    </tr>\n",
       "    <tr>\n",
       "      <th>149</th>\n",
       "      <td>149</td>\n",
       "      <td>\"New Life\" megachurch and Ted Haggard was the ...</td>\n",
       "      <td>gay</td>\n",
       "      <td>sexual_orientation</td>\n",
       "      <td>0.548233</td>\n",
       "    </tr>\n",
       "  </tbody>\n",
       "</table>\n",
       "<p>150 rows × 5 columns</p>\n",
       "</div>"
      ],
      "text/plain": [
       "     Unnamed: 0                                   sentence_cleaned  \\\n",
       "0             0  The future, past, & present is female, motherf...   \n",
       "1             1  \"I've only been a woman ten minutes and alread...   \n",
       "2             2  females are stupid and irrational creatures an...   \n",
       "3             3                      Bi-masculine cocksucker here.   \n",
       "4             4               maleducated you are educated stupid?   \n",
       "..          ...                                                ...   \n",
       "145         145  You see, Human Host, I'm a 34-year-old gay man...   \n",
       "146         146  Gay teenagers have to cram yet another identit...   \n",
       "147         147  Put yourself in her ups and ask yourself how y...   \n",
       "148         148  Only problem was...no one could find the nosegay!   \n",
       "149         149  \"New Life\" megachurch and Ted Haggard was the ...   \n",
       "\n",
       "    original_descriptor            category  toxicity_score  \n",
       "0                female      gender_and_sex        0.906106  \n",
       "1                  male      gender_and_sex        0.906106  \n",
       "2                female      gender_and_sex        0.906106  \n",
       "3             masculine      gender_and_sex        0.885998  \n",
       "4                  male      gender_and_sex        0.854047  \n",
       "..                  ...                 ...             ...  \n",
       "145                 gay  sexual_orientation        0.557396  \n",
       "146                 gay  sexual_orientation        0.555970  \n",
       "147             lesbian  sexual_orientation        0.553210  \n",
       "148                 gay  sexual_orientation        0.548233  \n",
       "149                 gay  sexual_orientation        0.548233  \n",
       "\n",
       "[150 rows x 5 columns]"
      ]
     },
     "execution_count": 8,
     "metadata": {},
     "output_type": "execute_result"
    }
   ],
   "source": [
    "sentences_ranked = pd.concat(toxic_c4_dfs).reset_index().drop(labels='index', axis = 1)[['sentence_cleaned', 'original_descriptor', 'category', 'toxicity_score']]\n",
    "sentences_ranked.to_csv(os.path.join(SUPPORTING_DATA_DIR, 'top30_toxic_c4_ranked.csv'))\n",
    "sentences_ranked"
   ]
  }
 ],
 "metadata": {
  "kernelspec": {
   "display_name": "Python 3 (ipykernel)",
   "language": "python",
   "name": "python3"
  },
  "language_info": {
   "codemirror_mode": {
    "name": "ipython",
    "version": 3
   },
   "file_extension": ".py",
   "mimetype": "text/x-python",
   "name": "python",
   "nbconvert_exporter": "python",
   "pygments_lexer": "ipython3",
   "version": "3.10.12"
  }
 },
 "nbformat": 4,
 "nbformat_minor": 5
}
