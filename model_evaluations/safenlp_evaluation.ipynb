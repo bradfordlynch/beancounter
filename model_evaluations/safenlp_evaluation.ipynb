{
 "cells": [
  {
   "cell_type": "markdown",
   "id": "e1ffe3ce-82fd-4c5c-93c6-207ff69c9b43",
   "metadata": {},
   "source": [
    "# Clone safenlp & install requirements"
   ]
  },
  {
   "cell_type": "code",
   "execution_count": null,
   "id": "a25f04ed-4fcd-4cc9-a211-fcf6d1c1e0c5",
   "metadata": {},
   "outputs": [],
   "source": [
    "!git clone https://github.com/microsoft/SafeNLP.git\n",
    "!cd safenlp\n",
    "!pip install -r requirements.txt"
   ]
  },
  {
   "cell_type": "markdown",
   "id": "a46e7e5c-3156-4a0f-a6e1-d80e53b75222",
   "metadata": {},
   "source": [
    "# Run evaluation"
   ]
  },
  {
   "cell_type": "code",
   "execution_count": null,
   "id": "be682f41-2f90-4c1d-95b5-332eb183ac7e",
   "metadata": {},
   "outputs": [],
   "source": [
    "python safety_score.py \\\n",
    "   --data data/toxiGen.json \\ # Path to evaluation dataset\n",
    "   --output /model_evaluations/resulting_scores/safeNLP_scores/phi-1_5_results/ \\ # local path to a directory for saving results\n",
    "   --model microsoft/phi-1_5 \\ # pre-trained model name or local path\n",
    "   --lmHead clm \\ # Type of language model head, i.e. causal or masked\n",
    "   --force # overwrites the output path if it already exists."
   ]
  },
  {
   "cell_type": "code",
   "execution_count": null,
   "id": "b2094bce-0e5a-44a1-a3a7-a31180560b9f",
   "metadata": {},
   "outputs": [],
   "source": [
    "python safety_score.py \\\n",
    "   --data data/toxiGen.json \\ # Path to evaluation dataset\n",
    "   --output /model_evaluations/resulting_scores/safeNLP_scores/phi-1_5-bc_results/ \\ # local path to a directory for saving results\n",
    "   --model /continually_pretrained_models/phi-1_5-bc-cp-highlr-hf \\ # pre-trained model name or local path\n",
    "   --lmHead clm \\ # Type of language model head, i.e. causal or masked\n",
    "   --force # overwrites the output path if it already exists."
   ]
  },
  {
   "cell_type": "code",
   "execution_count": null,
   "id": "0a445ab7-0f78-4d3d-b74e-40d08cca0d61",
   "metadata": {},
   "outputs": [],
   "source": [
    "python safety_score.py \\\n",
    "   --data data/toxiGen.json \\ # Path to evaluation dataset\n",
    "   --output /model_evaluations/resulting_scores/safeNLP_scores/pythia_results/ \\ # local path to a directory for saving results\n",
    "   --model EleutherAI/pythia-1.4b \\ # pre-trained model name or local path\n",
    "   --lmHead clm \\ # Type of language model head, i.e. causal or masked\n",
    "   --force # overwrites the output path if it already exists."
   ]
  },
  {
   "cell_type": "code",
   "execution_count": null,
   "id": "261df923-4bc3-4217-b7f5-3a2159984753",
   "metadata": {},
   "outputs": [],
   "source": [
    "python safety_score.py \\\n",
    "   --data data/toxiGen.json \\ # Path to evaluation dataset\n",
    "   --output /model_evaluations/resulting_scores/safeNLP_scores/pythia-bc_results/ \\ # local path to a directory for saving results\n",
    "   --model /continually_pretrained_models/pythia-1_4b-bc \\ # pre-trained model name or local path\n",
    "   --lmHead clm \\ # Type of language model head, i.e. causal or masked\n",
    "   --force # overwrites the output path if it already exists."
   ]
  }
 ],
 "metadata": {
  "kernelspec": {
   "display_name": "Python 3 (ipykernel)",
   "language": "python",
   "name": "python3"
  },
  "language_info": {
   "codemirror_mode": {
    "name": "ipython",
    "version": 3
   },
   "file_extension": ".py",
   "mimetype": "text/x-python",
   "name": "python",
   "nbconvert_exporter": "python",
   "pygments_lexer": "ipython3",
   "version": "3.10.12"
  }
 },
 "nbformat": 4,
 "nbformat_minor": 5
}
