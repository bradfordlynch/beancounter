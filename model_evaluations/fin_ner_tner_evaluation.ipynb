{
 "cells": [
  {
   "cell_type": "markdown",
   "id": "12a85cf1-8b58-450e-a96b-1da697d5c0b8",
   "metadata": {},
   "source": [
    "# Install Necessary Updates & Tools"
   ]
  },
  {
   "cell_type": "code",
   "execution_count": null,
   "id": "9c18760f-ef32-4c94-a105-11ca56143e59",
   "metadata": {},
   "outputs": [],
   "source": [
    "!pip install allennlp-light\n",
    "!pip install -U datasets\n",
    "!pip install -U torch torchvision torchaudio\n",
    "!pip install transformers -U"
   ]
  },
  {
   "cell_type": "code",
   "execution_count": null,
   "id": "8aedaaaf-9190-4a15-b9b1-5f74964c2347",
   "metadata": {},
   "outputs": [],
   "source": [
    "!pip install tner\n",
    "# or\n",
    "# !git clone https://github.com/asahi417/tner\n",
    "# !cd tner"
   ]
  },
  {
   "cell_type": "code",
   "execution_count": null,
   "id": "f460e496-81b9-4247-86dd-599be9f4d52f",
   "metadata": {},
   "outputs": [],
   "source": [
    "from tner import GridSearcher\n",
    "from tner import TransformersNER\n",
    "import os"
   ]
  },
  {
   "cell_type": "code",
   "execution_count": 3,
   "id": "1ae934fb-39d3-4b27-9fb6-78f17c874e7a",
   "metadata": {},
   "outputs": [],
   "source": [
    "def gridsearcher_init(CHECKPOINT_DIR, MODEL_PATH):\n",
    "    return GridSearcher(\n",
    "       checkpoint_dir= CHECKPOINT_DIR,\n",
    "       dataset='tner/fin',  # either of `dataset` (huggingface dataset) or `local_dataset` (custom dataset) should be given\n",
    "       model=MODEL_PATH,  # language model to fine-tune\n",
    "       epoch=10,  # the total epoch (`L` in the figure)\n",
    "       epoch_partial=5,  # the number of epoch at 1st stage (`M` in the figure)\n",
    "       n_max_config=3,  # the number of models to pass to 2nd stage (`K` in the figure)\n",
    "       batch_size=16,\n",
    "       gradient_accumulation_steps=[4, 8],\n",
    "       crf=[True, False],\n",
    "       lr=[1e-4, 1e-5],\n",
    "       weight_decay=[1e-7],\n",
    "       random_seed=[42],\n",
    "       lr_warmup_step_ratio=[0.1],\n",
    "       max_grad_norm=[10]  \n",
    "    )"
   ]
  },
  {
   "cell_type": "markdown",
   "id": "cbbd7beb-a53b-48f6-bcff-f5f8dcf18aaf",
   "metadata": {},
   "source": [
    "# Run finetuning & evaluation via TNER"
   ]
  },
  {
   "cell_type": "code",
   "execution_count": null,
   "id": "dbdf4107",
   "metadata": {},
   "outputs": [],
   "source": [
    "# see https://huggingface.co/datasets/tner/fin for more details on the dataset\n",
    "DATASET_PATH = 'tner/fin'"
   ]
  },
  {
   "cell_type": "markdown",
   "id": "f7163785-5297-4590-ad65-f658dc19f2ea",
   "metadata": {},
   "source": [
    "## phi base model"
   ]
  },
  {
   "cell_type": "code",
   "execution_count": 4,
   "id": "cfe541a6-e7d7-456f-a129-44f3944fdcfe",
   "metadata": {},
   "outputs": [],
   "source": [
    "MODEL_PATH = 'microsoft/phi-1_5'\n",
    "CHECKPOINT_PATH = './resulting_models/phi-1_5/'"
   ]
  },
  {
   "cell_type": "code",
   "execution_count": 7,
   "id": "b6aacae5-d695-46fd-acac-ace4c9eb5ccc",
   "metadata": {},
   "outputs": [],
   "source": [
    "searcher = gridsearcher_init(CHECKPOINT_PATH, MODEL_PATH)\n",
    "searcher.train()"
   ]
  },
  {
   "cell_type": "code",
   "execution_count": null,
   "id": "e2f639ef-03ce-43bf-8de4-51521ffeae99",
   "metadata": {},
   "outputs": [],
   "source": [
    "best_checkpoint = '' # specify best checkpoint after the searcher results"
   ]
  },
  {
   "cell_type": "code",
   "execution_count": null,
   "id": "8ef08187-ef06-43b1-930a-5b2ebefae674",
   "metadata": {},
   "outputs": [],
   "source": [
    "model = TransformersNER(os.path.join(CHECKPOINT_PATH, best_checkpoint))  # provide model alias on huggingface or path to the best epoch model\n",
    "metric = model.evaluate(DATASET_PATH, dataset_split='test') # huggingface dataset evaluation\n",
    "# metric = model.evaluate(local_dataset={\"test\": \"examples/local_dataset_sample/test.txt\"}, dataset_split='test') # local dataset evaluation"
   ]
  },
  {
   "cell_type": "markdown",
   "id": "33b9a266-d338-4531-9deb-e269797abed5",
   "metadata": {},
   "source": [
    "## pythia base model"
   ]
  },
  {
   "cell_type": "code",
   "execution_count": null,
   "id": "a8c8a0b9-bde0-407c-9105-8bf3e6d7e2b5",
   "metadata": {},
   "outputs": [],
   "source": [
    "MODEL_PATH = 'EleutherAI/pythia-1.4b'\n",
    "CHECKPOINT_PATH = './resulting_models/pythia/'"
   ]
  },
  {
   "cell_type": "code",
   "execution_count": null,
   "id": "c905814d-1b48-471f-874d-9150797586a5",
   "metadata": {},
   "outputs": [],
   "source": [
    "searcher = gridsearcher_init(CHECKPOINT_PATH, MODEL_PATH)\n",
    "searcher.train()"
   ]
  },
  {
   "cell_type": "code",
   "execution_count": null,
   "id": "905617d8-2122-4130-a22c-4b867f44b6fd",
   "metadata": {},
   "outputs": [],
   "source": [
    "best_checkpoint = '' # specify best checkpoint after the searcher results"
   ]
  },
  {
   "cell_type": "code",
   "execution_count": null,
   "id": "c0df2863-011f-4403-81cb-4d72aa48608c",
   "metadata": {},
   "outputs": [],
   "source": [
    "model = TransformersNER(os.path.join(CHECKPOINT_PATH, best_checkpoint))  # provide model alias on huggingface or path to the best epoch model\n",
    "metric = model.evaluate(DATASET_PATH, dataset_split='test') # huggingface dataset evaluation\n",
    "# metric = model.evaluate(local_dataset={\"test\": \"examples/local_dataset_sample/test.txt\"}, dataset_split='test') # local dataset evaluation"
   ]
  },
  {
   "cell_type": "markdown",
   "id": "4c759548-601d-40e2-8196-c45624b0e4ea",
   "metadata": {},
   "source": [
    "## phi-beancounter model"
   ]
  },
  {
   "cell_type": "code",
   "execution_count": null,
   "id": "802e5a95-8af5-40bc-9365-49bbbca7b7d2",
   "metadata": {},
   "outputs": [],
   "source": [
    "MODEL_PATH = 'bradfordlevy/phi-1_5-bc-cp'\n",
    "CHECKPOINT_PATH = './resulting_models/phi_bc/'"
   ]
  },
  {
   "cell_type": "code",
   "execution_count": null,
   "id": "6a81aecb-d1d1-40e4-8734-a2ec9a2ba22e",
   "metadata": {},
   "outputs": [],
   "source": [
    "searcher = gridsearcher_init(CHECKPOINT_PATH, MODEL_PATH)\n",
    "searcher.train()"
   ]
  },
  {
   "cell_type": "code",
   "execution_count": null,
   "id": "0be4ce9d-c431-4c23-8a19-d37cbd8d537b",
   "metadata": {},
   "outputs": [],
   "source": [
    "best_checkpoint = '' # specify best checkpoint after the searcher results"
   ]
  },
  {
   "cell_type": "code",
   "execution_count": null,
   "id": "1ed485ff-5cb0-491f-937e-82a08a951030",
   "metadata": {},
   "outputs": [],
   "source": [
    "model = TransformersNER(os.path.join(CHECKPOINT_PATH, best_checkpoint))  # provide model alias on huggingface or path to the best epoch model\n",
    "metric = model.evaluate(DATASET_PATH, dataset_split='test') # huggingface dataset evaluation\n",
    "# metric = model.evaluate(local_dataset={\"test\": \"examples/local_dataset_sample/test.txt\"}, dataset_split='test') # local dataset evaluation"
   ]
  },
  {
   "cell_type": "markdown",
   "id": "bada99ba-ba41-4cc7-9184-309d077c04d0",
   "metadata": {},
   "source": [
    "## pythia-beancounter model"
   ]
  },
  {
   "cell_type": "code",
   "execution_count": null,
   "id": "9169bb9a-43c5-43ed-a321-b94304ea0a2e",
   "metadata": {},
   "outputs": [],
   "source": [
    "CHECKPOINT_PATH = './resulting_models/pythia_bc/' # directory where checkpoints will be saved during finetuning\n",
    "MODEL_PATH = 'bradfordlevy/pythia-1.4b-bc-cp' # language model to fine-tune, local or via huggingface"
   ]
  },
  {
   "cell_type": "code",
   "execution_count": null,
   "id": "34612253-e178-4686-a18d-bbf5707efaa7",
   "metadata": {},
   "outputs": [],
   "source": [
    "searcher = gridsearcher_init(CHECKPOINT_PATH, MODEL_PATH)\n",
    "searcher.train()"
   ]
  },
  {
   "cell_type": "code",
   "execution_count": null,
   "id": "7cc23622-48b0-46f9-b86a-93c1f551ab47",
   "metadata": {},
   "outputs": [],
   "source": [
    "best_checkpoint = '' # specify best checkpoint after the searcher results"
   ]
  },
  {
   "cell_type": "code",
   "execution_count": null,
   "id": "e9139fa6-fc18-43f0-a0c1-0a0d7982b8ba",
   "metadata": {},
   "outputs": [],
   "source": [
    "model = TransformersNER(os.path.join(CHECKPOINT_PATH, best_checkpoint))  # provide model alias on huggingface or path to the best epoch model\n",
    "metric = model.evaluate(DATASET_PATH, dataset_split='test') # huggingface dataset evaluation\n",
    "# metric = model.evaluate(local_dataset={\"test\": \"examples/local_dataset_sample/test.txt\"}, dataset_split='test') # local dataset evaluation"
   ]
  },
  {
   "cell_type": "markdown",
   "id": "99b8f274-3bfb-4abb-bd66-6485ab82477c",
   "metadata": {
    "jp-MarkdownHeadingCollapsed": true
   },
   "source": [
    "# Potential trouble-shooting"
   ]
  },
  {
   "cell_type": "markdown",
   "id": "88e44338-05b1-4741-9f06-2ba351f9313e",
   "metadata": {},
   "source": [
    "Pad token related error: go into tner/tner/ner_tokenizer.py and change line 43 to: \\\n",
    "    `self.tokenizer.pad_token = self.tokenizer.unk_token` \\\n",
    "    `self.tokenizer.pad_token_id = self.tokenizer.unk_token_id`\n",
    "\n",
    "OR\n",
    "\n",
    "Save tokenizer with pad_token and pad_token_id configured in MODEL_PATH"
   ]
  }
 ],
 "metadata": {
  "kernelspec": {
   "display_name": "Python 3 (ipykernel)",
   "language": "python",
   "name": "python3"
  },
  "language_info": {
   "codemirror_mode": {
    "name": "ipython",
    "version": 3
   },
   "file_extension": ".py",
   "mimetype": "text/x-python",
   "name": "python",
   "nbconvert_exporter": "python",
   "pygments_lexer": "ipython3",
   "version": "3.10.12"
  }
 },
 "nbformat": 4,
 "nbformat_minor": 5
}
